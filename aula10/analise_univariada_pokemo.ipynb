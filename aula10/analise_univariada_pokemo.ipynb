{
 "cells": [
  {
   "cell_type": "markdown",
   "id": "17edbd9a-1410-4324-bf5d-2ad643eba646",
   "metadata": {},
   "source": [
    "# **Análise Univariada\n",
    "\n",
    "**Descrição:**\n",
    "**Vamos aplicar os conceitos aprendidos**\n",
    "1. carregar o arquivo pokempn em python. Realizar um\n"
   ]
  }
 ],
 "metadata": {
  "kernelspec": {
   "display_name": "Python 3 (ipykernel)",
   "language": "python",
   "name": "python3"
  },
  "language_info": {
   "codemirror_mode": {
    "name": "ipython",
    "version": 3
   },
   "file_extension": ".py",
   "mimetype": "text/x-python",
   "name": "python",
   "nbconvert_exporter": "python",
   "pygments_lexer": "ipython3",
   "version": "3.11.7"
  }
 },
 "nbformat": 4,
 "nbformat_minor": 5
}
