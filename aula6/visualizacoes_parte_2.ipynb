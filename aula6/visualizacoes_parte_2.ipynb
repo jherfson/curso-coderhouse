{
 "cells": [
  {
   "cell_type": "markdown",
   "id": "fe53b2ea-91d7-4064-8125-10233b34ae4f",
   "metadata": {},
   "source": [
    "# **Visualizações em Python (Parte II)**\n",
    "\n",
    "## **Objetivos da aulas**\n",
    "\n",
    "* Aprendeer a representar graficamente os dados em python.\n",
    "* Compreender o uso básicos das bibliotecas mais utilizadas: Matplotlib e Searbon.\n",
    "\n",
    "## Subgráficos\n",
    "\n",
    "* Podemos definir uma **grade de gráficos** dentro da mesma figura.\n",
    "* Em ```plt.subplots```, especificamos:\n",
    "\n"
   ]
  },
  {
   "cell_type": "code",
   "execution_count": null,
   "id": "0a9b49e9-d7a5-4125-ba63-2308ebda435a",
   "metadata": {},
   "outputs": [],
   "source": []
  }
 ],
 "metadata": {
  "kernelspec": {
   "display_name": "Python 3 (ipykernel)",
   "language": "python",
   "name": "python3"
  },
  "language_info": {
   "codemirror_mode": {
    "name": "ipython",
    "version": 3
   },
   "file_extension": ".py",
   "mimetype": "text/x-python",
   "name": "python",
   "nbconvert_exporter": "python",
   "pygments_lexer": "ipython3",
   "version": "3.11.7"
  }
 },
 "nbformat": 4,
 "nbformat_minor": 5
}
