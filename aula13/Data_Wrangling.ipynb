{
 "cells": [
  {
   "cell_type": "markdown",
   "id": "7eda61f3-91d3-4c10-bd04-da65c3408dbf",
   "metadata": {},
   "source": [
    "# **Data Wrangling**\n",
    "### **Descrição:**\n",
    "### **Vamos aplicar os conceitos aprendidos**\n",
    "Ler os sets de dados w_data.csv e p_data.csv, fundi-los a partir da variável que tenham em comum (ID) e realizar os seguintes exercícios:\n",
    "    \n",
    "    a. Quantos ID têm em comum?\n",
    "        i.Nomear quais não têm em comum.\n",
    "        \n",
    "    b. Corrigir os target a apenas dois valores distintos ‘<=50k’ e ‘>50k’\n",
    "    \n",
    "    c.Calcular a proporção entre pessoas com salários >50k em relação ao total com pessoas que difiram em sexo, raça e nível educacional. Por exemplo, ache qual é a porcentagem de mulheres com um salário maior que 50K e compare com a dos homens. O mesmo para pessoas de diferentes raças e níveis educacionais. \n"
   ]
  },
  {
   "cell_type": "code",
   "execution_count": null,
   "id": "3d0b24d3-7693-480d-a503-32778d2d8b96",
   "metadata": {},
   "outputs": [],
   "source": []
  },
  {
   "cell_type": "code",
   "execution_count": null,
   "id": "a701aa23-0cdc-4fb5-9ebf-7c84ddb9fc0b",
   "metadata": {},
   "outputs": [],
   "source": []
  }
 ],
 "metadata": {
  "kernelspec": {
   "display_name": "Python 3 (ipykernel)",
   "language": "python",
   "name": "python3"
  },
  "language_info": {
   "codemirror_mode": {
    "name": "ipython",
    "version": 3
   },
   "file_extension": ".py",
   "mimetype": "text/x-python",
   "name": "python",
   "nbconvert_exporter": "python",
   "pygments_lexer": "ipython3",
   "version": "3.10.14"
  }
 },
 "nbformat": 4,
 "nbformat_minor": 5
}
