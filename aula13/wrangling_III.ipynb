{
 "cells": [
  {
   "cell_type": "markdown",
   "id": "7351fad3-9131-40cf-bdd8-2c682ecc406a",
   "metadata": {},
   "source": [
    "# **Data Wrangling**\n",
    "\n",
    "## **Codificação e Transformação de Featura**\n",
    "\n",
    "## **Categorização**\n",
    "\n",
    "Em alguns casos queremos agrupar categorias ou categorizar uma informação numérica para realizar nossas investigações.\n",
    "\n",
    "| Escore | f | f% | F% |\n",
    "|--------|---|----|----|\n",
    "| 0 - 250| 2564| 24% | 24%|\n",
    "| 251 - 500 | 2672 | 25% | 50% |\n",
    "| 501 - 750 | 3267 | 31% | 81% |\n",
    "| 751 - 100 | 1978 | 19% | 100% |\n",
    "| Total | 10481 | 100% | |"
   ]
  },
  {
   "cell_type": "code",
   "execution_count": null,
   "id": "da450b38-7b16-448f-acec-51fda73a0b5c",
   "metadata": {},
   "outputs": [],
   "source": []
  }
 ],
 "metadata": {
  "kernelspec": {
   "display_name": "Python 3 (ipykernel)",
   "language": "python",
   "name": "python3"
  },
  "language_info": {
   "codemirror_mode": {
    "name": "ipython",
    "version": 3
   },
   "file_extension": ".py",
   "mimetype": "text/x-python",
   "name": "python",
   "nbconvert_exporter": "python",
   "pygments_lexer": "ipython3",
   "version": "3.10.14"
  }
 },
 "nbformat": 4,
 "nbformat_minor": 5
}
