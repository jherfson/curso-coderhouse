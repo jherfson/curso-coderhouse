{
 "cells": [
  {
   "cell_type": "markdown",
   "id": "504ae8d4-1e7f-4df9-a863-9d567046555b",
   "metadata": {},
   "source": [
    "# **Data Wrangling II**\n",
    "\n",
    "## **Revisão Data Wrangling**\n",
    "\n",
    "* A manipulação de dados ou Data Wrangling é o processo de limpeza e unificação de conjuntos de dados complexos e desordenados para facilitar seu acesso, análise e modelagem.\n",
    "* Grande parte do tempo de um(a) cientista de dados é investido na manipulação de dados.\n",
    "\n",
    "## **Etapas do data wrangling**\n",
    "1. Descobrimento\n",
    "2. Estruturação\n",
    "3. Limpeza\n",
    "4. Enriquecimento\n",
    "5. Validação\n",
    "6. publicação\n",
    "\n",
    "## **Data Transformation**\n",
    "### **Map**\n",
    "\n",
    "Permite aos usuários aplicar uma função a cada elemento de uma lista, funcionando de forma iterativa, muito semelhante a um loop."
   ]
  },
  {
   "cell_type": "code",
   "execution_count": 1,
   "id": "a3c8cc13-4c6b-42d1-8968-68f668e020d8",
   "metadata": {},
   "outputs": [],
   "source": [
    "import pandas as pd\n",
    "import numpy as np"
   ]
  },
  {
   "cell_type": "code",
   "execution_count": 13,
   "id": "c3bb4997-959d-4ea6-8dab-7e6dc0e87c3e",
   "metadata": {},
   "outputs": [
    {
     "data": {
      "text/html": [
       "<div>\n",
       "<style scoped>\n",
       "    .dataframe tbody tr th:only-of-type {\n",
       "        vertical-align: middle;\n",
       "    }\n",
       "\n",
       "    .dataframe tbody tr th {\n",
       "        vertical-align: top;\n",
       "    }\n",
       "\n",
       "    .dataframe thead th {\n",
       "        text-align: right;\n",
       "    }\n",
       "</style>\n",
       "<table border=\"1\" class=\"dataframe\">\n",
       "  <thead>\n",
       "    <tr style=\"text-align: right;\">\n",
       "      <th></th>\n",
       "      <th>Barbarian</th>\n",
       "      <th>Prey</th>\n",
       "      <th>Mandy</th>\n",
       "      <th>Upgrade</th>\n",
       "      <th>Premiado</th>\n",
       "    </tr>\n",
       "  </thead>\n",
       "  <tbody>\n",
       "    <tr>\n",
       "      <th>0</th>\n",
       "      <td>80</td>\n",
       "      <td>60</td>\n",
       "      <td>80</td>\n",
       "      <td>78</td>\n",
       "      <td>Yes</td>\n",
       "    </tr>\n",
       "    <tr>\n",
       "      <th>1</th>\n",
       "      <td>90</td>\n",
       "      <td>65</td>\n",
       "      <td>57</td>\n",
       "      <td>83</td>\n",
       "      <td>Yes</td>\n",
       "    </tr>\n",
       "    <tr>\n",
       "      <th>2</th>\n",
       "      <td>70</td>\n",
       "      <td>56</td>\n",
       "      <td>80</td>\n",
       "      <td>67</td>\n",
       "      <td>No</td>\n",
       "    </tr>\n",
       "    <tr>\n",
       "      <th>3</th>\n",
       "      <td>95</td>\n",
       "      <td>65</td>\n",
       "      <td>78</td>\n",
       "      <td>75</td>\n",
       "      <td>No</td>\n",
       "    </tr>\n",
       "    <tr>\n",
       "      <th>4</th>\n",
       "      <td>65</td>\n",
       "      <td>60</td>\n",
       "      <td>68</td>\n",
       "      <td>55</td>\n",
       "      <td>No</td>\n",
       "    </tr>\n",
       "  </tbody>\n",
       "</table>\n",
       "</div>"
      ],
      "text/plain": [
       "   Barbarian  Prey  Mandy  Upgrade Premiado\n",
       "0         80    60     80       78      Yes\n",
       "1         90    65     57       83      Yes\n",
       "2         70    56     80       67       No\n",
       "3         95    65     78       75       No\n",
       "4         65    60     68       55       No"
      ]
     },
     "execution_count": 13,
     "metadata": {},
     "output_type": "execute_result"
    }
   ],
   "source": [
    "aux_dict = {\"Barbarian\":[80, 90, 70, 95, 65], \n",
    "             \"Prey\":     [60, 65, 56, 65, 60], \n",
    "             \"Mandy\" :   [80, 57, 80, 78, 68],\n",
    "             \"Upgrade\" : [78, 83, 67, 75, 55],\n",
    "             \"Premiado\": [\"Yes\",\"Yes\",\"No\",\"No\",\"No\"]}\n",
    "  \n",
    "df = pd.DataFrame(aux_dict)\n",
    "df"
   ]
  },
  {
   "cell_type": "code",
   "execution_count": 3,
   "id": "a28961a6-3047-4e2e-a35d-1b936f3fea27",
   "metadata": {},
   "outputs": [
    {
     "data": {
      "text/html": [
       "<div>\n",
       "<style scoped>\n",
       "    .dataframe tbody tr th:only-of-type {\n",
       "        vertical-align: middle;\n",
       "    }\n",
       "\n",
       "    .dataframe tbody tr th {\n",
       "        vertical-align: top;\n",
       "    }\n",
       "\n",
       "    .dataframe thead th {\n",
       "        text-align: right;\n",
       "    }\n",
       "</style>\n",
       "<table border=\"1\" class=\"dataframe\">\n",
       "  <thead>\n",
       "    <tr style=\"text-align: right;\">\n",
       "      <th></th>\n",
       "      <th>Barbarian</th>\n",
       "      <th>Prey</th>\n",
       "      <th>Mandy</th>\n",
       "      <th>Upgrade</th>\n",
       "      <th>Premiado</th>\n",
       "      <th>Premiado_dummy</th>\n",
       "    </tr>\n",
       "  </thead>\n",
       "  <tbody>\n",
       "    <tr>\n",
       "      <th>0</th>\n",
       "      <td>80</td>\n",
       "      <td>60</td>\n",
       "      <td>80</td>\n",
       "      <td>78</td>\n",
       "      <td>Yes</td>\n",
       "      <td>1</td>\n",
       "    </tr>\n",
       "    <tr>\n",
       "      <th>1</th>\n",
       "      <td>90</td>\n",
       "      <td>65</td>\n",
       "      <td>57</td>\n",
       "      <td>83</td>\n",
       "      <td>Yes</td>\n",
       "      <td>1</td>\n",
       "    </tr>\n",
       "    <tr>\n",
       "      <th>2</th>\n",
       "      <td>70</td>\n",
       "      <td>56</td>\n",
       "      <td>80</td>\n",
       "      <td>67</td>\n",
       "      <td>No</td>\n",
       "      <td>0</td>\n",
       "    </tr>\n",
       "    <tr>\n",
       "      <th>3</th>\n",
       "      <td>95</td>\n",
       "      <td>65</td>\n",
       "      <td>78</td>\n",
       "      <td>75</td>\n",
       "      <td>No</td>\n",
       "      <td>0</td>\n",
       "    </tr>\n",
       "    <tr>\n",
       "      <th>4</th>\n",
       "      <td>65</td>\n",
       "      <td>60</td>\n",
       "      <td>68</td>\n",
       "      <td>55</td>\n",
       "      <td>No</td>\n",
       "      <td>0</td>\n",
       "    </tr>\n",
       "  </tbody>\n",
       "</table>\n",
       "</div>"
      ],
      "text/plain": [
       "   Barbarian  Prey  Mandy  Upgrade Premiado  Premiado_dummy\n",
       "0         80    60     80       78      Yes               1\n",
       "1         90    65     57       83      Yes               1\n",
       "2         70    56     80       67       No               0\n",
       "3         95    65     78       75       No               0\n",
       "4         65    60     68       55       No               0"
      ]
     },
     "execution_count": 3,
     "metadata": {},
     "output_type": "execute_result"
    }
   ],
   "source": [
    "df[\"Premiado_dummy\"] = df[\"Premiado\"].map({\"Yes\": 1,\n",
    "                                           \"No\":  0})\n",
    " \n",
    "df"
   ]
  },
  {
   "cell_type": "code",
   "execution_count": 4,
   "id": "80c36475-3637-48b0-8d9d-ce2b322184da",
   "metadata": {},
   "outputs": [
    {
     "data": {
      "text/plain": [
       "[4, 10, 12, 8, 4, 4, 6, 10, 8]"
      ]
     },
     "execution_count": 4,
     "metadata": {},
     "output_type": "execute_result"
    }
   ],
   "source": [
    "z = [2,5,6,4,2,2,3,5,4]\n",
    "func2 = lambda x: x * 2\n",
    "\n",
    "mapped_numbers = map(func2, z)\n",
    "list(mapped_numbers)"
   ]
  },
  {
   "cell_type": "code",
   "execution_count": 5,
   "id": "a0c0c4eb-bb24-41c5-a9a3-85d58fa4258b",
   "metadata": {},
   "outputs": [
    {
     "data": {
      "text/plain": [
       "map"
      ]
     },
     "execution_count": 5,
     "metadata": {},
     "output_type": "execute_result"
    }
   ],
   "source": [
    "type(mapped_numbers)"
   ]
  },
  {
   "cell_type": "code",
   "execution_count": 11,
   "id": "a02cbcb7-634b-410b-b253-6d51fe64bdfd",
   "metadata": {},
   "outputs": [
    {
     "data": {
      "text/html": [
       "<div>\n",
       "<style scoped>\n",
       "    .dataframe tbody tr th:only-of-type {\n",
       "        vertical-align: middle;\n",
       "    }\n",
       "\n",
       "    .dataframe tbody tr th {\n",
       "        vertical-align: top;\n",
       "    }\n",
       "\n",
       "    .dataframe thead th {\n",
       "        text-align: right;\n",
       "    }\n",
       "</style>\n",
       "<table border=\"1\" class=\"dataframe\">\n",
       "  <thead>\n",
       "    <tr style=\"text-align: right;\">\n",
       "      <th></th>\n",
       "      <th>Barbarian</th>\n",
       "      <th>Prey</th>\n",
       "      <th>Mandy</th>\n",
       "      <th>Upgrade</th>\n",
       "      <th>Premiado</th>\n",
       "      <th>Premiado_dummy</th>\n",
       "      <th>Upgrade2</th>\n",
       "    </tr>\n",
       "  </thead>\n",
       "  <tbody>\n",
       "    <tr>\n",
       "      <th>0</th>\n",
       "      <td>80</td>\n",
       "      <td>60</td>\n",
       "      <td>80</td>\n",
       "      <td>78</td>\n",
       "      <td>Yes</td>\n",
       "      <td>1</td>\n",
       "      <td>156</td>\n",
       "    </tr>\n",
       "    <tr>\n",
       "      <th>1</th>\n",
       "      <td>90</td>\n",
       "      <td>65</td>\n",
       "      <td>57</td>\n",
       "      <td>83</td>\n",
       "      <td>Yes</td>\n",
       "      <td>1</td>\n",
       "      <td>166</td>\n",
       "    </tr>\n",
       "    <tr>\n",
       "      <th>2</th>\n",
       "      <td>70</td>\n",
       "      <td>56</td>\n",
       "      <td>80</td>\n",
       "      <td>67</td>\n",
       "      <td>No</td>\n",
       "      <td>0</td>\n",
       "      <td>134</td>\n",
       "    </tr>\n",
       "    <tr>\n",
       "      <th>3</th>\n",
       "      <td>95</td>\n",
       "      <td>65</td>\n",
       "      <td>78</td>\n",
       "      <td>75</td>\n",
       "      <td>No</td>\n",
       "      <td>0</td>\n",
       "      <td>150</td>\n",
       "    </tr>\n",
       "    <tr>\n",
       "      <th>4</th>\n",
       "      <td>65</td>\n",
       "      <td>60</td>\n",
       "      <td>68</td>\n",
       "      <td>55</td>\n",
       "      <td>No</td>\n",
       "      <td>0</td>\n",
       "      <td>110</td>\n",
       "    </tr>\n",
       "  </tbody>\n",
       "</table>\n",
       "</div>"
      ],
      "text/plain": [
       "   Barbarian  Prey  Mandy  Upgrade Premiado  Premiado_dummy  Upgrade2\n",
       "0         80    60     80       78      Yes               1       156\n",
       "1         90    65     57       83      Yes               1       166\n",
       "2         70    56     80       67       No               0       134\n",
       "3         95    65     78       75       No               0       150\n",
       "4         65    60     68       55       No               0       110"
      ]
     },
     "execution_count": 11,
     "metadata": {},
     "output_type": "execute_result"
    }
   ],
   "source": [
    "func2 = lambda x: x * 2\n",
    "\n",
    "mapped_numbers = map(func2, df[\"Upgrade\"])\n",
    "df[\"Upgrade2\"] = list(mapped_numbers)\n",
    "df"
   ]
  },
  {
   "cell_type": "code",
   "execution_count": 7,
   "id": "98a6a7d7-9376-4bc0-9cdb-05af75208b36",
   "metadata": {},
   "outputs": [
    {
     "data": {
      "text/plain": [
       "Index(['Barbarian', 'Prey', 'Mandy', 'Upgrade', 'Premiado', 'Premiado_dummy',\n",
       "       'Upgrade2'],\n",
       "      dtype='object')"
      ]
     },
     "execution_count": 7,
     "metadata": {},
     "output_type": "execute_result"
    }
   ],
   "source": [
    "df.columns"
   ]
  },
  {
   "cell_type": "code",
   "execution_count": 8,
   "id": "bb573c21-274c-433d-b887-269a324b2ca2",
   "metadata": {},
   "outputs": [
    {
     "data": {
      "text/plain": [
       "7"
      ]
     },
     "execution_count": 8,
     "metadata": {},
     "output_type": "execute_result"
    }
   ],
   "source": [
    "len(df.columns)"
   ]
  },
  {
   "cell_type": "code",
   "execution_count": 9,
   "id": "18e2a1cf-4815-4bb5-8df3-bc03efccc505",
   "metadata": {},
   "outputs": [
    {
     "data": {
      "text/plain": [
       "[9, 4, 5, 7, 8, 14, 8]"
      ]
     },
     "execution_count": 9,
     "metadata": {},
     "output_type": "execute_result"
    }
   ],
   "source": [
    "def len_names(x):\n",
    "  return len(x)\n",
    "\n",
    "x = map(len_names, df.columns)\n",
    "list(x)"
   ]
  },
  {
   "cell_type": "markdown",
   "id": "10ad6dbe-b86b-4fe0-8195-e40f8f108f4e",
   "metadata": {},
   "source": [
    "## **Apply**\n",
    "\n",
    "Permite aos usuários enviar uma função e aplicá-la em cada valor da série Pandas. \n",
    "Se trata de uma grande melhoria para a biblioteca de pandas, já que essa função ajuda a segregar os dados de acordo com as condições necessárias, motivo pelo qual é utilizada de maneira eficiente na ciência de dados e no aprendizado automático."
   ]
  },
  {
   "cell_type": "code",
   "execution_count": 15,
   "id": "07b20f95-bfbf-4e90-9c01-3c4d6baad36a",
   "metadata": {},
   "outputs": [
    {
     "data": {
      "text/html": [
       "<div>\n",
       "<style scoped>\n",
       "    .dataframe tbody tr th:only-of-type {\n",
       "        vertical-align: middle;\n",
       "    }\n",
       "\n",
       "    .dataframe tbody tr th {\n",
       "        vertical-align: top;\n",
       "    }\n",
       "\n",
       "    .dataframe thead th {\n",
       "        text-align: right;\n",
       "    }\n",
       "</style>\n",
       "<table border=\"1\" class=\"dataframe\">\n",
       "  <thead>\n",
       "    <tr style=\"text-align: right;\">\n",
       "      <th></th>\n",
       "      <th>Barbarian</th>\n",
       "      <th>Prey</th>\n",
       "      <th>Mandy</th>\n",
       "      <th>Upgrade</th>\n",
       "    </tr>\n",
       "  </thead>\n",
       "  <tbody>\n",
       "    <tr>\n",
       "      <th>0</th>\n",
       "      <td>80</td>\n",
       "      <td>60</td>\n",
       "      <td>80</td>\n",
       "      <td>78</td>\n",
       "    </tr>\n",
       "    <tr>\n",
       "      <th>1</th>\n",
       "      <td>90</td>\n",
       "      <td>65</td>\n",
       "      <td>57</td>\n",
       "      <td>83</td>\n",
       "    </tr>\n",
       "    <tr>\n",
       "      <th>2</th>\n",
       "      <td>70</td>\n",
       "      <td>56</td>\n",
       "      <td>80</td>\n",
       "      <td>67</td>\n",
       "    </tr>\n",
       "    <tr>\n",
       "      <th>3</th>\n",
       "      <td>95</td>\n",
       "      <td>65</td>\n",
       "      <td>78</td>\n",
       "      <td>75</td>\n",
       "    </tr>\n",
       "    <tr>\n",
       "      <th>4</th>\n",
       "      <td>65</td>\n",
       "      <td>60</td>\n",
       "      <td>68</td>\n",
       "      <td>55</td>\n",
       "    </tr>\n",
       "  </tbody>\n",
       "</table>\n",
       "</div>"
      ],
      "text/plain": [
       "   Barbarian  Prey  Mandy  Upgrade\n",
       "0         80    60     80       78\n",
       "1         90    65     57       83\n",
       "2         70    56     80       67\n",
       "3         95    65     78       75\n",
       "4         65    60     68       55"
      ]
     },
     "execution_count": 15,
     "metadata": {},
     "output_type": "execute_result"
    }
   ],
   "source": [
    "aux_dict = {\"Barbarian\":[80, 90, 70, 95, 65], \n",
    "             \"Prey\":     [60, 65, 56, 65, 60], \n",
    "             \"Mandy\" :   [80, 57, 80, 78, 68],\n",
    "             \"Upgrade\" : [78, 83, 67, 75, 55]}\n",
    "  \n",
    "df = pd.DataFrame(aux_dict)\n",
    "df"
   ]
  },
  {
   "cell_type": "code",
   "execution_count": 16,
   "id": "9a173868-d1ab-4ca2-8cdd-4b0327a82ac7",
   "metadata": {},
   "outputs": [
    {
     "data": {
      "text/html": [
       "<div>\n",
       "<style scoped>\n",
       "    .dataframe tbody tr th:only-of-type {\n",
       "        vertical-align: middle;\n",
       "    }\n",
       "\n",
       "    .dataframe tbody tr th {\n",
       "        vertical-align: top;\n",
       "    }\n",
       "\n",
       "    .dataframe thead th {\n",
       "        text-align: right;\n",
       "    }\n",
       "</style>\n",
       "<table border=\"1\" class=\"dataframe\">\n",
       "  <thead>\n",
       "    <tr style=\"text-align: right;\">\n",
       "      <th></th>\n",
       "      <th>Barbarian</th>\n",
       "      <th>Prey</th>\n",
       "      <th>Mandy</th>\n",
       "      <th>Upgrade</th>\n",
       "    </tr>\n",
       "  </thead>\n",
       "  <tbody>\n",
       "    <tr>\n",
       "      <th>0</th>\n",
       "      <td>8.944272</td>\n",
       "      <td>7.745967</td>\n",
       "      <td>8.944272</td>\n",
       "      <td>8.831761</td>\n",
       "    </tr>\n",
       "    <tr>\n",
       "      <th>1</th>\n",
       "      <td>9.486833</td>\n",
       "      <td>8.062258</td>\n",
       "      <td>7.549834</td>\n",
       "      <td>9.110434</td>\n",
       "    </tr>\n",
       "    <tr>\n",
       "      <th>2</th>\n",
       "      <td>8.366600</td>\n",
       "      <td>7.483315</td>\n",
       "      <td>8.944272</td>\n",
       "      <td>8.185353</td>\n",
       "    </tr>\n",
       "    <tr>\n",
       "      <th>3</th>\n",
       "      <td>9.746794</td>\n",
       "      <td>8.062258</td>\n",
       "      <td>8.831761</td>\n",
       "      <td>8.660254</td>\n",
       "    </tr>\n",
       "    <tr>\n",
       "      <th>4</th>\n",
       "      <td>8.062258</td>\n",
       "      <td>7.745967</td>\n",
       "      <td>8.246211</td>\n",
       "      <td>7.416198</td>\n",
       "    </tr>\n",
       "  </tbody>\n",
       "</table>\n",
       "</div>"
      ],
      "text/plain": [
       "   Barbarian      Prey     Mandy   Upgrade\n",
       "0   8.944272  7.745967  8.944272  8.831761\n",
       "1   9.486833  8.062258  7.549834  9.110434\n",
       "2   8.366600  7.483315  8.944272  8.185353\n",
       "3   9.746794  8.062258  8.831761  8.660254\n",
       "4   8.062258  7.745967  8.246211  7.416198"
      ]
     },
     "execution_count": 16,
     "metadata": {},
     "output_type": "execute_result"
    }
   ],
   "source": [
    "df.apply(np.sqrt)"
   ]
  },
  {
   "cell_type": "code",
   "execution_count": 17,
   "id": "bdadd549-45f1-4181-964c-0ac51d1cd2e3",
   "metadata": {},
   "outputs": [
    {
     "data": {
      "text/html": [
       "<div>\n",
       "<style scoped>\n",
       "    .dataframe tbody tr th:only-of-type {\n",
       "        vertical-align: middle;\n",
       "    }\n",
       "\n",
       "    .dataframe tbody tr th {\n",
       "        vertical-align: top;\n",
       "    }\n",
       "\n",
       "    .dataframe thead th {\n",
       "        text-align: right;\n",
       "    }\n",
       "</style>\n",
       "<table border=\"1\" class=\"dataframe\">\n",
       "  <thead>\n",
       "    <tr style=\"text-align: right;\">\n",
       "      <th></th>\n",
       "      <th>Barbarian</th>\n",
       "      <th>Prey</th>\n",
       "      <th>Mandy</th>\n",
       "      <th>Upgrade</th>\n",
       "    </tr>\n",
       "  </thead>\n",
       "  <tbody>\n",
       "    <tr>\n",
       "      <th>0</th>\n",
       "      <td>-0.993889</td>\n",
       "      <td>-0.304811</td>\n",
       "      <td>-0.993889</td>\n",
       "      <td>0.513978</td>\n",
       "    </tr>\n",
       "    <tr>\n",
       "      <th>1</th>\n",
       "      <td>0.893997</td>\n",
       "      <td>0.826829</td>\n",
       "      <td>0.436165</td>\n",
       "      <td>0.968364</td>\n",
       "    </tr>\n",
       "    <tr>\n",
       "      <th>2</th>\n",
       "      <td>0.773891</td>\n",
       "      <td>-0.521551</td>\n",
       "      <td>-0.993889</td>\n",
       "      <td>-0.855520</td>\n",
       "    </tr>\n",
       "    <tr>\n",
       "      <th>3</th>\n",
       "      <td>0.683262</td>\n",
       "      <td>0.826829</td>\n",
       "      <td>0.513978</td>\n",
       "      <td>-0.387782</td>\n",
       "    </tr>\n",
       "    <tr>\n",
       "      <th>4</th>\n",
       "      <td>0.826829</td>\n",
       "      <td>-0.304811</td>\n",
       "      <td>-0.897928</td>\n",
       "      <td>-0.999755</td>\n",
       "    </tr>\n",
       "  </tbody>\n",
       "</table>\n",
       "</div>"
      ],
      "text/plain": [
       "   Barbarian      Prey     Mandy   Upgrade\n",
       "0  -0.993889 -0.304811 -0.993889  0.513978\n",
       "1   0.893997  0.826829  0.436165  0.968364\n",
       "2   0.773891 -0.521551 -0.993889 -0.855520\n",
       "3   0.683262  0.826829  0.513978 -0.387782\n",
       "4   0.826829 -0.304811 -0.897928 -0.999755"
      ]
     },
     "execution_count": 17,
     "metadata": {},
     "output_type": "execute_result"
    }
   ],
   "source": [
    "df.apply(np.sin)"
   ]
  },
  {
   "cell_type": "code",
   "execution_count": 18,
   "id": "c34bf5d7-b5c4-4b0c-a94f-c0bb99d3ae18",
   "metadata": {},
   "outputs": [
    {
     "data": {
      "text/plain": [
       "Barbarian    14.252193\n",
       "Prey          5.603408\n",
       "Mandy        12.369115\n",
       "Upgrade      13.672892\n",
       "dtype: float64"
      ]
     },
     "execution_count": 18,
     "metadata": {},
     "output_type": "execute_result"
    }
   ],
   "source": [
    "cv = lambda x: np.std(x) / np.mean(x) * 100\n",
    "df.apply(cv)"
   ]
  },
  {
   "cell_type": "code",
   "execution_count": 19,
   "id": "d3d1f5c3-106f-45ca-b652-7f080bec786c",
   "metadata": {},
   "outputs": [
    {
     "data": {
      "text/plain": [
       "Barbarian    14.252193\n",
       "Prey          5.603408\n",
       "Mandy        12.369115\n",
       "Upgrade      13.672892\n",
       "dtype: float64"
      ]
     },
     "execution_count": 19,
     "metadata": {},
     "output_type": "execute_result"
    }
   ],
   "source": [
    "def cv2(x):\n",
    "  cv = np.std(x) / np.mean(x) * 100\n",
    "  return(cv)\n",
    "\n",
    "df.apply(cv2)"
   ]
  },
  {
   "cell_type": "code",
   "execution_count": 20,
   "id": "d5732d73-6685-4c23-8682-21b680c18a76",
   "metadata": {},
   "outputs": [
    {
     "data": {
      "text/plain": [
       "0    298\n",
       "1    295\n",
       "2    273\n",
       "3    313\n",
       "4    248\n",
       "dtype: int64"
      ]
     },
     "execution_count": 20,
     "metadata": {},
     "output_type": "execute_result"
    }
   ],
   "source": [
    "df.apply(np.sum, axis = 1)"
   ]
  },
  {
   "cell_type": "code",
   "execution_count": 21,
   "id": "da066e11-3d1e-4e50-8d42-0a216d91b272",
   "metadata": {},
   "outputs": [
    {
     "name": "stdout",
     "output_type": "stream",
     "text": [
      "     A    B\n",
      "0  102  111\n",
      "1  103  121\n",
      "2  104  131\n"
     ]
    }
   ],
   "source": [
    "def soma(x, z, k):\n",
    "    return x + z + k\n",
    "\n",
    "df = pd.DataFrame({'A': [1, 2, 3], 'B': [10, 20, 30]})\n",
    "\n",
    "df1 = df.apply(soma, z = 1, k = 100)\n",
    "print(df1)"
   ]
  },
  {
   "cell_type": "markdown",
   "id": "49873dd1-56e9-445f-861f-33d3c945b35a",
   "metadata": {},
   "source": [
    "## **Dados Ausentes**\n",
    "\n",
    "### **Dados ausentes. Por quê?**\n",
    "\n",
    "* Como futuros Data Scientists, será comum se deparar com valores ausentes ou faltantes que poderiam vir das seguintes situações:\n",
    "    * Falhas em alguma etapa do carregamento de dados.\n",
    "    * Omissão direta do carregamento de dados.\n",
    "    * Receio de um entrevistado em dar determinada resposta.\n",
    "\n",
    "_Os valores ausentes são mais comuns do que pensa!_\n",
    "\n",
    "### **Revisão com dados ausentes**\n",
    "\n",
    "* Esses valores podem não ser adequados para alguns algoritmos de Data Science. Por isso, devem ser manipulados corretamente.\n",
    "* O pandas nos disponibiliza ferramentas para trabalhar com eles.\n",
    "\n",
    "_Antes de tudo, vamos definir nosso conjunto de teste:_\n",
    "\n",
    "* Podemos marcá-los: ```Numeros_nan.isnull()```\n",
    "* Podemos substituí-los: ```Numeros_nan.fillna(0)```\n",
    "* Podemos eliminá-los: ```Numeros_nan.dropna()```\n",
    "\n",
    "O **dropna** tem alguns parâmetros que valem uma conferida.\n",
    "\n",
    "### **Como tomar uma decisão sobre o valor nulo**"
   ]
  },
  {
   "cell_type": "code",
   "execution_count": 5,
   "id": "9a69e173-6da2-4fae-a670-0ccae55009ee",
   "metadata": {},
   "outputs": [],
   "source": [
    "import missingno as msno\n",
    "import pandas as pd"
   ]
  },
  {
   "cell_type": "code",
   "execution_count": 6,
   "id": "2b384149-6635-4710-8394-9429330ee906",
   "metadata": {},
   "outputs": [
    {
     "data": {
      "text/plain": [
       "<Axes: >"
      ]
     },
     "execution_count": 6,
     "metadata": {},
     "output_type": "execute_result"
    },
    {
     "data": {
      "image/png": "[encoded data removed]",
      "text/plain": [
       "<Figure size 2500x1000 with 2 Axes>"
      ]
     },
     "metadata": {},
     "output_type": "display_data"
    }
   ],
   "source": [
    "collisions = pd.read_csv(\"https://raw.githubusercontent.com/ResidentMario/missingno-data/master/nyc_collision_factors.csv\")\n",
    "%matplotlib inline\n",
    "msno.matrix(collisions.sample(250))"
   ]
  },
  {
   "attachments": {
    "bd9fc968-2e51-4784-bdac-46217742f6ed.png": {
     "image/png": "[encoded data removed]"
    }
   },
   "cell_type": "markdown",
   "id": "03d29d42-f1ce-439a-aa90-f2993ab47410",
   "metadata": {},
   "source": [
    "## **Imputação de dados ausentes**\n",
    "## **Nearest Neighbors Imputation**\n",
    "\n",
    "![image.png](attachment:bd9fc968-2e51-4784-bdac-46217742f6ed.png)\n",
    "\n",
    "$ d_{AB} = \\sqrt{(2 - 2)^2 + (0 - 2)^2} = \\sqrt{4}$\n",
    "\n",
    "$ d_{BC} = \\sqrt{(2 - 3)^2 + (2 - 3)^2} = \\sqrt{2}$\n",
    "\n",
    "$ d_{AC} = \\sqrt{(2 - 3)^2 + (0 - 3)^2} = \\sqrt{10}$\n",
    "\n",
    "$ d_{xy} = \\sqrt{ peso * distância\\ quadrada\\ das\\ coordenadas\\ atuais}$\n",
    "\n",
    "$ peso = \\dfrac{Número\\ total\\ de\\ coordenadas}{número\\ de\\ coordenadas\\ presentes} $"
   ]
  },
  {
   "cell_type": "markdown",
   "id": "9d33a1c2-b158-4423-a60f-5fb04bd067c0",
   "metadata": {},
   "source": [
    "Considerando os vetores $ (3, NA, 5) e (1, 0, 0) $\n",
    "\n",
    "$ \\sqrt{\\dfrac{3}{2}{(3 - 1)^2 + (5 - 0)^2}} = 6.595453 $"
   ]
  },
  {
   "cell_type": "code",
   "execution_count": 12,
   "id": "c96bbec6-8d07-4247-8f89-c9d85fd2c4dc",
   "metadata": {},
   "outputs": [],
   "source": [
    "import numpy as np\n",
    "from sklearn.impute import KNNImputer\n",
    "from sklearn.metrics.pairwise import nan_euclidean_distances\n",
    "from sklearn.preprocessing import MinMaxScaler"
   ]
  },
  {
   "cell_type": "code",
   "execution_count": 9,
   "id": "60a77232-b919-4038-9e23-84512f4cd854",
   "metadata": {},
   "outputs": [
    {
     "data": {
      "text/plain": [
       "array([[1. , 2. , 4. ],\n",
       "       [3. , 4. , 3. ],\n",
       "       [5.5, 6. , 5. ],\n",
       "       [8. , 8. , 7. ]])"
      ]
     },
     "execution_count": 9,
     "metadata": {},
     "output_type": "execute_result"
    }
   ],
   "source": [
    "nan = np.nan\n",
    "X = [[1, 2, nan], [3, 4, 3], [nan, 6, 5], [8, 8, 7]]\n",
    "imputer = KNNImputer(n_neighbors=2, weights='uniform')\n",
    "imputer.fit_transform(X)"
   ]
  },
  {
   "cell_type": "code",
   "execution_count": 10,
   "id": "bd06d6d6-2e13-4fc2-90b2-cfe6159f0241",
   "metadata": {},
   "outputs": [
    {
     "data": {
      "text/html": [
       "<div>\n",
       "<style scoped>\n",
       "    .dataframe tbody tr th:only-of-type {\n",
       "        vertical-align: middle;\n",
       "    }\n",
       "\n",
       "    .dataframe tbody tr th {\n",
       "        vertical-align: top;\n",
       "    }\n",
       "\n",
       "    .dataframe thead th {\n",
       "        text-align: right;\n",
       "    }\n",
       "</style>\n",
       "<table border=\"1\" class=\"dataframe\">\n",
       "  <thead>\n",
       "    <tr style=\"text-align: right;\">\n",
       "      <th></th>\n",
       "      <th>Barbarian</th>\n",
       "      <th>Prey</th>\n",
       "      <th>Mandy</th>\n",
       "      <th>Upgrade</th>\n",
       "    </tr>\n",
       "  </thead>\n",
       "  <tbody>\n",
       "    <tr>\n",
       "      <th>0</th>\n",
       "      <td>80.0</td>\n",
       "      <td>60.0</td>\n",
       "      <td>NaN</td>\n",
       "      <td>78.0</td>\n",
       "    </tr>\n",
       "    <tr>\n",
       "      <th>1</th>\n",
       "      <td>90.0</td>\n",
       "      <td>65.0</td>\n",
       "      <td>57.0</td>\n",
       "      <td>83.0</td>\n",
       "    </tr>\n",
       "    <tr>\n",
       "      <th>2</th>\n",
       "      <td>NaN</td>\n",
       "      <td>56.0</td>\n",
       "      <td>80.0</td>\n",
       "      <td>67.0</td>\n",
       "    </tr>\n",
       "    <tr>\n",
       "      <th>3</th>\n",
       "      <td>95.0</td>\n",
       "      <td>NaN</td>\n",
       "      <td>78.0</td>\n",
       "      <td>NaN</td>\n",
       "    </tr>\n",
       "    <tr>\n",
       "      <th>4</th>\n",
       "      <td>65.0</td>\n",
       "      <td>60.0</td>\n",
       "      <td>68.0</td>\n",
       "      <td>55.0</td>\n",
       "    </tr>\n",
       "  </tbody>\n",
       "</table>\n",
       "</div>"
      ],
      "text/plain": [
       "   Barbarian  Prey  Mandy  Upgrade\n",
       "0       80.0  60.0    NaN     78.0\n",
       "1       90.0  65.0   57.0     83.0\n",
       "2        NaN  56.0   80.0     67.0\n",
       "3       95.0   NaN   78.0      NaN\n",
       "4       65.0  60.0   68.0     55.0"
      ]
     },
     "execution_count": 10,
     "metadata": {},
     "output_type": "execute_result"
    }
   ],
   "source": [
    "aux_dict1 = {\"Barbarian\":[80, 90, np.nan, 95,65], \n",
    "             \"Prey\":     [60, 65, 56, np.nan,60], \n",
    "             \"Mandy\" :   [np.nan, 57, 80, 78,68],\n",
    "             \"Upgrade\" : [78,83,67,np.nan,55]}\n",
    "  \n",
    "df_orig_1 = pd.DataFrame(aux_dict1)\n",
    "df_orig_1"
   ]
  },
  {
   "cell_type": "code",
   "execution_count": 13,
   "id": "787779d4-ee4f-49c5-a58f-824f2e93e3b8",
   "metadata": {},
   "outputs": [
    {
     "data": {
      "text/plain": [
       "array([[ 0.        , 14.14213562, 16.55294536, 30.        , 31.70699187],\n",
       "       [14.14213562,  0.        , 33.9803865 , 30.52867504, 39.43348831],\n",
       "       [16.55294536, 33.9803865 ,  0.        ,  4.        , 20.13289183],\n",
       "       [30.        , 30.52867504,  4.        ,  0.        , 44.72135955],\n",
       "       [31.70699187, 39.43348831, 20.13289183, 44.72135955,  0.        ]])"
      ]
     },
     "execution_count": 13,
     "metadata": {},
     "output_type": "execute_result"
    }
   ],
   "source": [
    "nan_euclidean_distances(df_orig_1)"
   ]
  },
  {
   "cell_type": "code",
   "execution_count": 14,
   "id": "2e4ae78c-3b29-4f57-8de2-3edbcccb8f42",
   "metadata": {},
   "outputs": [
    {
     "data": {
      "text/plain": [
       "5"
      ]
     },
     "execution_count": 14,
     "metadata": {},
     "output_type": "execute_result"
    }
   ],
   "source": [
    "N = df_orig_1.shape[0]\n",
    "N"
   ]
  },
  {
   "cell_type": "code",
   "execution_count": 15,
   "id": "07f8dabb-18da-471e-a84f-565a5850e825",
   "metadata": {},
   "outputs": [
    {
     "data": {
      "text/plain": [
       "np.float64(1.118033988749895)"
      ]
     },
     "execution_count": 15,
     "metadata": {},
     "output_type": "execute_result"
    }
   ],
   "source": [
    "k = np.sqrt(N)/2\n",
    "k"
   ]
  },
  {
   "cell_type": "code",
   "execution_count": 16,
   "id": "1e16b9b8-c99a-4aba-b582-eb908808e9af",
   "metadata": {},
   "outputs": [
    {
     "data": {
      "text/plain": [
       "np.float64(2.23606797749979)"
      ]
     },
     "execution_count": 16,
     "metadata": {},
     "output_type": "execute_result"
    }
   ],
   "source": [
    " k = np.sqrt(N)\n",
    " k"
   ]
  },
  {
   "cell_type": "code",
   "execution_count": 17,
   "id": "c00edaed-2c40-4d85-b756-772d3261bdb2",
   "metadata": {},
   "outputs": [
    {
     "data": {
      "text/html": [
       "<div>\n",
       "<style scoped>\n",
       "    .dataframe tbody tr th:only-of-type {\n",
       "        vertical-align: middle;\n",
       "    }\n",
       "\n",
       "    .dataframe tbody tr th {\n",
       "        vertical-align: top;\n",
       "    }\n",
       "\n",
       "    .dataframe thead th {\n",
       "        text-align: right;\n",
       "    }\n",
       "</style>\n",
       "<table border=\"1\" class=\"dataframe\">\n",
       "  <thead>\n",
       "    <tr style=\"text-align: right;\">\n",
       "      <th></th>\n",
       "      <th>Barbarian</th>\n",
       "      <th>Prey</th>\n",
       "      <th>Mandy</th>\n",
       "      <th>Upgrade</th>\n",
       "    </tr>\n",
       "  </thead>\n",
       "  <tbody>\n",
       "    <tr>\n",
       "      <th>0</th>\n",
       "      <td>80.0</td>\n",
       "      <td>60.000000</td>\n",
       "      <td>71.666667</td>\n",
       "      <td>78.0</td>\n",
       "    </tr>\n",
       "    <tr>\n",
       "      <th>1</th>\n",
       "      <td>90.0</td>\n",
       "      <td>65.000000</td>\n",
       "      <td>57.000000</td>\n",
       "      <td>83.0</td>\n",
       "    </tr>\n",
       "    <tr>\n",
       "      <th>2</th>\n",
       "      <td>80.0</td>\n",
       "      <td>56.000000</td>\n",
       "      <td>80.000000</td>\n",
       "      <td>67.0</td>\n",
       "    </tr>\n",
       "    <tr>\n",
       "      <th>3</th>\n",
       "      <td>95.0</td>\n",
       "      <td>60.333333</td>\n",
       "      <td>78.000000</td>\n",
       "      <td>76.0</td>\n",
       "    </tr>\n",
       "    <tr>\n",
       "      <th>4</th>\n",
       "      <td>65.0</td>\n",
       "      <td>60.000000</td>\n",
       "      <td>68.000000</td>\n",
       "      <td>55.0</td>\n",
       "    </tr>\n",
       "  </tbody>\n",
       "</table>\n",
       "</div>"
      ],
      "text/plain": [
       "   Barbarian       Prey      Mandy  Upgrade\n",
       "0       80.0  60.000000  71.666667     78.0\n",
       "1       90.0  65.000000  57.000000     83.0\n",
       "2       80.0  56.000000  80.000000     67.0\n",
       "3       95.0  60.333333  78.000000     76.0\n",
       "4       65.0  60.000000  68.000000     55.0"
      ]
     },
     "execution_count": 17,
     "metadata": {},
     "output_type": "execute_result"
    }
   ],
   "source": [
    "imputer = KNNImputer(n_neighbors = 3)\n",
    "df_imputation1 = imputer.fit_transform(df_orig_1)\n",
    "pd.DataFrame(df_imputation1, columns = [\"Barbarian\",\"Prey\",\"Mandy\",\"Upgrade\"])"
   ]
  },
  {
   "cell_type": "code",
   "execution_count": 18,
   "id": "7bcab535-d856-42e5-ab8b-0788d9b503ca",
   "metadata": {},
   "outputs": [
    {
     "data": {
      "text/html": [
       "<div>\n",
       "<style scoped>\n",
       "    .dataframe tbody tr th:only-of-type {\n",
       "        vertical-align: middle;\n",
       "    }\n",
       "\n",
       "    .dataframe tbody tr th {\n",
       "        vertical-align: top;\n",
       "    }\n",
       "\n",
       "    .dataframe thead th {\n",
       "        text-align: right;\n",
       "    }\n",
       "</style>\n",
       "<table border=\"1\" class=\"dataframe\">\n",
       "  <thead>\n",
       "    <tr style=\"text-align: right;\">\n",
       "      <th></th>\n",
       "      <th>Barbarian</th>\n",
       "      <th>Prey</th>\n",
       "      <th>Mandy</th>\n",
       "      <th>Upgrade</th>\n",
       "    </tr>\n",
       "  </thead>\n",
       "  <tbody>\n",
       "    <tr>\n",
       "      <th>0</th>\n",
       "      <td>80.0</td>\n",
       "      <td>60.0</td>\n",
       "      <td>NaN</td>\n",
       "      <td>78.0</td>\n",
       "    </tr>\n",
       "    <tr>\n",
       "      <th>1</th>\n",
       "      <td>90.0</td>\n",
       "      <td>65.0</td>\n",
       "      <td>57.0</td>\n",
       "      <td>83.0</td>\n",
       "    </tr>\n",
       "    <tr>\n",
       "      <th>2</th>\n",
       "      <td>NaN</td>\n",
       "      <td>56.0</td>\n",
       "      <td>80.0</td>\n",
       "      <td>67.0</td>\n",
       "    </tr>\n",
       "    <tr>\n",
       "      <th>3</th>\n",
       "      <td>95.0</td>\n",
       "      <td>NaN</td>\n",
       "      <td>78.0</td>\n",
       "      <td>NaN</td>\n",
       "    </tr>\n",
       "    <tr>\n",
       "      <th>4</th>\n",
       "      <td>65.0</td>\n",
       "      <td>60.0</td>\n",
       "      <td>68.0</td>\n",
       "      <td>55.0</td>\n",
       "    </tr>\n",
       "  </tbody>\n",
       "</table>\n",
       "</div>"
      ],
      "text/plain": [
       "   Barbarian  Prey  Mandy  Upgrade\n",
       "0       80.0  60.0    NaN     78.0\n",
       "1       90.0  65.0   57.0     83.0\n",
       "2        NaN  56.0   80.0     67.0\n",
       "3       95.0   NaN   78.0      NaN\n",
       "4       65.0  60.0   68.0     55.0"
      ]
     },
     "execution_count": 18,
     "metadata": {},
     "output_type": "execute_result"
    }
   ],
   "source": [
    "df_orig_1"
   ]
  },
  {
   "cell_type": "code",
   "execution_count": 19,
   "id": "6ceb2309-4ac2-4f55-ab54-70eefeb3c506",
   "metadata": {},
   "outputs": [
    {
     "data": {
      "text/plain": [
       "72.5"
      ]
     },
     "execution_count": 19,
     "metadata": {},
     "output_type": "execute_result"
    }
   ],
   "source": [
    "(67+78)/2"
   ]
  },
  {
   "cell_type": "code",
   "execution_count": 20,
   "id": "f0ebc9d3-4c9a-47ef-8702-0aaa9bceebfd",
   "metadata": {},
   "outputs": [
    {
     "data": {
      "text/html": [
       "<div>\n",
       "<style scoped>\n",
       "    .dataframe tbody tr th:only-of-type {\n",
       "        vertical-align: middle;\n",
       "    }\n",
       "\n",
       "    .dataframe tbody tr th {\n",
       "        vertical-align: top;\n",
       "    }\n",
       "\n",
       "    .dataframe thead th {\n",
       "        text-align: right;\n",
       "    }\n",
       "</style>\n",
       "<table border=\"1\" class=\"dataframe\">\n",
       "  <thead>\n",
       "    <tr style=\"text-align: right;\">\n",
       "      <th></th>\n",
       "      <th>Barbarian</th>\n",
       "      <th>Prey</th>\n",
       "      <th>Mandy</th>\n",
       "      <th>Upgrade</th>\n",
       "      <th>Premiado</th>\n",
       "    </tr>\n",
       "  </thead>\n",
       "  <tbody>\n",
       "    <tr>\n",
       "      <th>0</th>\n",
       "      <td>80.0</td>\n",
       "      <td>90</td>\n",
       "      <td>95</td>\n",
       "      <td>85</td>\n",
       "      <td>1.0</td>\n",
       "    </tr>\n",
       "    <tr>\n",
       "      <th>1</th>\n",
       "      <td>90.0</td>\n",
       "      <td>85</td>\n",
       "      <td>97</td>\n",
       "      <td>93</td>\n",
       "      <td>1.0</td>\n",
       "    </tr>\n",
       "    <tr>\n",
       "      <th>2</th>\n",
       "      <td>50.0</td>\n",
       "      <td>56</td>\n",
       "      <td>60</td>\n",
       "      <td>47</td>\n",
       "      <td>0.0</td>\n",
       "    </tr>\n",
       "    <tr>\n",
       "      <th>3</th>\n",
       "      <td>NaN</td>\n",
       "      <td>65</td>\n",
       "      <td>78</td>\n",
       "      <td>55</td>\n",
       "      <td>0.0</td>\n",
       "    </tr>\n",
       "    <tr>\n",
       "      <th>4</th>\n",
       "      <td>50.0</td>\n",
       "      <td>50</td>\n",
       "      <td>55</td>\n",
       "      <td>45</td>\n",
       "      <td>0.0</td>\n",
       "    </tr>\n",
       "    <tr>\n",
       "      <th>5</th>\n",
       "      <td>60.0</td>\n",
       "      <td>60</td>\n",
       "      <td>55</td>\n",
       "      <td>40</td>\n",
       "      <td>NaN</td>\n",
       "    </tr>\n",
       "  </tbody>\n",
       "</table>\n",
       "</div>"
      ],
      "text/plain": [
       "   Barbarian  Prey  Mandy  Upgrade  Premiado\n",
       "0       80.0    90     95       85       1.0\n",
       "1       90.0    85     97       93       1.0\n",
       "2       50.0    56     60       47       0.0\n",
       "3        NaN    65     78       55       0.0\n",
       "4       50.0    50     55       45       0.0\n",
       "5       60.0    60     55       40       NaN"
      ]
     },
     "execution_count": 20,
     "metadata": {},
     "output_type": "execute_result"
    }
   ],
   "source": [
    "aux_dict2 = {\"Barbarian\":[80,   90,   50,  np.nan,  50, 60], \n",
    "             \"Prey\":     [90,   85,   56,  65,  50, 60], \n",
    "             \"Mandy\" :   [95,   97,   60,  78,  55, 55],\n",
    "             \"Upgrade\" : [85,   93,   47,  55,  45, 40],\n",
    "             \"Premiado\": [\"Yes\",\"Yes\",\"No\",\"No\",\"No\",np.nan  ] }\n",
    "  \n",
    "df_orig_2 = pd.DataFrame(aux_dict2)\n",
    "df_orig_2[\"Premiado\"] = df_orig_2[\"Premiado\"].map({\"Yes\":1, \"No\":0})\n",
    "df_orig_2"
   ]
  },
  {
   "cell_type": "code",
   "execution_count": 21,
   "id": "01b05536-0ef8-4a49-8331-45542b9e5888",
   "metadata": {},
   "outputs": [
    {
     "data": {
      "text/plain": [
       "array([[0.75      , 1.        , 0.95238095, 0.8490566 , 1.        ],\n",
       "       [1.        , 0.875     , 1.        , 1.        , 1.        ],\n",
       "       [0.        , 0.15      , 0.11904762, 0.13207547, 0.        ],\n",
       "       [       nan, 0.375     , 0.54761905, 0.28301887, 0.        ],\n",
       "       [0.        , 0.        , 0.        , 0.09433962, 0.        ],\n",
       "       [0.25      , 0.25      , 0.        , 0.        ,        nan]])"
      ]
     },
     "execution_count": 21,
     "metadata": {},
     "output_type": "execute_result"
    }
   ],
   "source": [
    "scaler = MinMaxScaler()\n",
    "df_orig_pad_2 = scaler.fit_transform(df_orig_2)\n",
    "df_orig_pad_2"
   ]
  },
  {
   "cell_type": "code",
   "execution_count": 22,
   "id": "1e65d531-29a1-40d7-b99e-5d4f6ee4ec01",
   "metadata": {},
   "outputs": [
    {
     "data": {
      "text/plain": [
       "array([[0.75      , 1.        , 0.95238095, 0.8490566 , 1.        ],\n",
       "       [1.        , 0.875     , 1.        , 1.        , 1.        ],\n",
       "       [0.        , 0.15      , 0.11904762, 0.13207547, 0.        ],\n",
       "       [0.        , 0.375     , 0.54761905, 0.28301887, 0.        ],\n",
       "       [0.        , 0.        , 0.        , 0.09433962, 0.        ],\n",
       "       [0.25      , 0.25      , 0.        , 0.        , 0.        ]])"
      ]
     },
     "execution_count": 22,
     "metadata": {},
     "output_type": "execute_result"
    }
   ],
   "source": [
    "# create an object for KNNImputer\n",
    "imputer = KNNImputer(n_neighbors=2)\n",
    "df_imputation2 = imputer.fit_transform(df_orig_pad_2)\n",
    "df_imputation2"
   ]
  },
  {
   "cell_type": "code",
   "execution_count": 23,
   "id": "c2b10304-e48e-472e-a666-313e7225e8ff",
   "metadata": {},
   "outputs": [
    {
     "data": {
      "text/html": [
       "<div>\n",
       "<style scoped>\n",
       "    .dataframe tbody tr th:only-of-type {\n",
       "        vertical-align: middle;\n",
       "    }\n",
       "\n",
       "    .dataframe tbody tr th {\n",
       "        vertical-align: top;\n",
       "    }\n",
       "\n",
       "    .dataframe thead th {\n",
       "        text-align: right;\n",
       "    }\n",
       "</style>\n",
       "<table border=\"1\" class=\"dataframe\">\n",
       "  <thead>\n",
       "    <tr style=\"text-align: right;\">\n",
       "      <th></th>\n",
       "      <th>Barbarian</th>\n",
       "      <th>Prey</th>\n",
       "      <th>Mandy</th>\n",
       "      <th>Upgrade</th>\n",
       "      <th>Premiado</th>\n",
       "    </tr>\n",
       "  </thead>\n",
       "  <tbody>\n",
       "    <tr>\n",
       "      <th>0</th>\n",
       "      <td>80.0</td>\n",
       "      <td>90.0</td>\n",
       "      <td>95.0</td>\n",
       "      <td>85.0</td>\n",
       "      <td>1.0</td>\n",
       "    </tr>\n",
       "    <tr>\n",
       "      <th>1</th>\n",
       "      <td>90.0</td>\n",
       "      <td>85.0</td>\n",
       "      <td>97.0</td>\n",
       "      <td>93.0</td>\n",
       "      <td>1.0</td>\n",
       "    </tr>\n",
       "    <tr>\n",
       "      <th>2</th>\n",
       "      <td>50.0</td>\n",
       "      <td>56.0</td>\n",
       "      <td>60.0</td>\n",
       "      <td>47.0</td>\n",
       "      <td>0.0</td>\n",
       "    </tr>\n",
       "    <tr>\n",
       "      <th>3</th>\n",
       "      <td>50.0</td>\n",
       "      <td>65.0</td>\n",
       "      <td>78.0</td>\n",
       "      <td>55.0</td>\n",
       "      <td>0.0</td>\n",
       "    </tr>\n",
       "    <tr>\n",
       "      <th>4</th>\n",
       "      <td>50.0</td>\n",
       "      <td>50.0</td>\n",
       "      <td>55.0</td>\n",
       "      <td>45.0</td>\n",
       "      <td>0.0</td>\n",
       "    </tr>\n",
       "    <tr>\n",
       "      <th>5</th>\n",
       "      <td>60.0</td>\n",
       "      <td>60.0</td>\n",
       "      <td>55.0</td>\n",
       "      <td>40.0</td>\n",
       "      <td>0.0</td>\n",
       "    </tr>\n",
       "  </tbody>\n",
       "</table>\n",
       "</div>"
      ],
      "text/plain": [
       "   Barbarian  Prey  Mandy  Upgrade  Premiado\n",
       "0       80.0  90.0   95.0     85.0       1.0\n",
       "1       90.0  85.0   97.0     93.0       1.0\n",
       "2       50.0  56.0   60.0     47.0       0.0\n",
       "3       50.0  65.0   78.0     55.0       0.0\n",
       "4       50.0  50.0   55.0     45.0       0.0\n",
       "5       60.0  60.0   55.0     40.0       0.0"
      ]
     },
     "execution_count": 23,
     "metadata": {},
     "output_type": "execute_result"
    }
   ],
   "source": [
    "df_imputation2 = scaler.inverse_transform(df_imputation2)\n",
    "df_imputation2 = pd.DataFrame(df_imputation2, columns = [\"Barbarian\",\"Prey\",\"Mandy\",\"Upgrade\",\"Premiado\"])\n",
    "df_imputation2"
   ]
  },
  {
   "cell_type": "code",
   "execution_count": 24,
   "id": "474795a4-ba07-43c2-94da-1be6f1525628",
   "metadata": {},
   "outputs": [
    {
     "data": {
      "text/html": [
       "<div>\n",
       "<style scoped>\n",
       "    .dataframe tbody tr th:only-of-type {\n",
       "        vertical-align: middle;\n",
       "    }\n",
       "\n",
       "    .dataframe tbody tr th {\n",
       "        vertical-align: top;\n",
       "    }\n",
       "\n",
       "    .dataframe thead th {\n",
       "        text-align: right;\n",
       "    }\n",
       "</style>\n",
       "<table border=\"1\" class=\"dataframe\">\n",
       "  <thead>\n",
       "    <tr style=\"text-align: right;\">\n",
       "      <th></th>\n",
       "      <th>Barbarian</th>\n",
       "      <th>Prey</th>\n",
       "      <th>Mandy</th>\n",
       "      <th>Upgrade</th>\n",
       "      <th>Premiado</th>\n",
       "    </tr>\n",
       "  </thead>\n",
       "  <tbody>\n",
       "    <tr>\n",
       "      <th>0</th>\n",
       "      <td>80.0</td>\n",
       "      <td>90</td>\n",
       "      <td>95</td>\n",
       "      <td>85</td>\n",
       "      <td>1.0</td>\n",
       "    </tr>\n",
       "    <tr>\n",
       "      <th>1</th>\n",
       "      <td>90.0</td>\n",
       "      <td>85</td>\n",
       "      <td>97</td>\n",
       "      <td>93</td>\n",
       "      <td>1.0</td>\n",
       "    </tr>\n",
       "    <tr>\n",
       "      <th>2</th>\n",
       "      <td>50.0</td>\n",
       "      <td>56</td>\n",
       "      <td>60</td>\n",
       "      <td>47</td>\n",
       "      <td>0.0</td>\n",
       "    </tr>\n",
       "    <tr>\n",
       "      <th>3</th>\n",
       "      <td>NaN</td>\n",
       "      <td>65</td>\n",
       "      <td>78</td>\n",
       "      <td>55</td>\n",
       "      <td>0.0</td>\n",
       "    </tr>\n",
       "    <tr>\n",
       "      <th>4</th>\n",
       "      <td>50.0</td>\n",
       "      <td>50</td>\n",
       "      <td>55</td>\n",
       "      <td>45</td>\n",
       "      <td>0.0</td>\n",
       "    </tr>\n",
       "    <tr>\n",
       "      <th>5</th>\n",
       "      <td>60.0</td>\n",
       "      <td>60</td>\n",
       "      <td>55</td>\n",
       "      <td>40</td>\n",
       "      <td>NaN</td>\n",
       "    </tr>\n",
       "  </tbody>\n",
       "</table>\n",
       "</div>"
      ],
      "text/plain": [
       "   Barbarian  Prey  Mandy  Upgrade  Premiado\n",
       "0       80.0    90     95       85       1.0\n",
       "1       90.0    85     97       93       1.0\n",
       "2       50.0    56     60       47       0.0\n",
       "3        NaN    65     78       55       0.0\n",
       "4       50.0    50     55       45       0.0\n",
       "5       60.0    60     55       40       NaN"
      ]
     },
     "execution_count": 24,
     "metadata": {},
     "output_type": "execute_result"
    }
   ],
   "source": [
    "df_orig_2"
   ]
  }
 ],
 "metadata": {
  "kernelspec": {
   "display_name": "Python 3 (ipykernel)",
   "language": "python",
   "name": "python3"
  },
  "language_info": {
   "codemirror_mode": {
    "name": "ipython",
    "version": 3
   },
   "file_extension": ".py",
   "mimetype": "text/x-python",
   "name": "python",
   "nbconvert_exporter": "python",
   "pygments_lexer": "ipython3",
   "version": "3.10.14"
  }
 },
 "nbformat": 4,
 "nbformat_minor": 5
}
