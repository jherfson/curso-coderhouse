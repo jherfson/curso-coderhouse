{
 "cells": [
  {
   "cell_type": "markdown",
   "id": "504ae8d4-1e7f-4df9-a863-9d567046555b",
   "metadata": {},
   "source": [
    "# **Data Wrangling II**\n",
    "\n",
    "## **Revisão Data Wrangling**\n",
    "\n",
    "* A manipulação de dados ou Data Wrangling é o processo de limpeza e unificação de conjuntos de dados complexos e desordenados para facilitar seu acesso, análise e modelagem.\n",
    "* Grande parte do tempo de um(a) cientista de dados é investido na manipulação de dados.\n",
    "\n",
    "## **Etapas do data wrangling**\n",
    "1. Descobrimento\n",
    "2. Estruturação\n",
    "3. Limpeza\n",
    "4. Enriquecimento\n",
    "5. Validação\n",
    "6. publicação\n",
    "\n",
    "## **Data Transformation**\n",
    "### **Map**\n",
    "\n",
    "Permite aos usuários aplicar uma função a cada elemento de uma lista, funcionando de forma iterativa, muito semelhante a um loop."
   ]
  },
  {
   "cell_type": "code",
   "execution_count": 1,
   "id": "a3c8cc13-4c6b-42d1-8968-68f668e020d8",
   "metadata": {},
   "outputs": [],
   "source": [
    "import pandas as pd\n",
    "import numpy as np"
   ]
  },
  {
   "cell_type": "code",
   "execution_count": 13,
   "id": "c3bb4997-959d-4ea6-8dab-7e6dc0e87c3e",
   "metadata": {},
   "outputs": [
    {
     "data": {
      "text/html": [
       "<div>\n",
       "<style scoped>\n",
       "    .dataframe tbody tr th:only-of-type {\n",
       "        vertical-align: middle;\n",
       "    }\n",
       "\n",
       "    .dataframe tbody tr th {\n",
       "        vertical-align: top;\n",
       "    }\n",
       "\n",
       "    .dataframe thead th {\n",
       "        text-align: right;\n",
       "    }\n",
       "</style>\n",
       "<table border=\"1\" class=\"dataframe\">\n",
       "  <thead>\n",
       "    <tr style=\"text-align: right;\">\n",
       "      <th></th>\n",
       "      <th>Barbarian</th>\n",
       "      <th>Prey</th>\n",
       "      <th>Mandy</th>\n",
       "      <th>Upgrade</th>\n",
       "      <th>Premiado</th>\n",
       "    </tr>\n",
       "  </thead>\n",
       "  <tbody>\n",
       "    <tr>\n",
       "      <th>0</th>\n",
       "      <td>80</td>\n",
       "      <td>60</td>\n",
       "      <td>80</td>\n",
       "      <td>78</td>\n",
       "      <td>Yes</td>\n",
       "    </tr>\n",
       "    <tr>\n",
       "      <th>1</th>\n",
       "      <td>90</td>\n",
       "      <td>65</td>\n",
       "      <td>57</td>\n",
       "      <td>83</td>\n",
       "      <td>Yes</td>\n",
       "    </tr>\n",
       "    <tr>\n",
       "      <th>2</th>\n",
       "      <td>70</td>\n",
       "      <td>56</td>\n",
       "      <td>80</td>\n",
       "      <td>67</td>\n",
       "      <td>No</td>\n",
       "    </tr>\n",
       "    <tr>\n",
       "      <th>3</th>\n",
       "      <td>95</td>\n",
       "      <td>65</td>\n",
       "      <td>78</td>\n",
       "      <td>75</td>\n",
       "      <td>No</td>\n",
       "    </tr>\n",
       "    <tr>\n",
       "      <th>4</th>\n",
       "      <td>65</td>\n",
       "      <td>60</td>\n",
       "      <td>68</td>\n",
       "      <td>55</td>\n",
       "      <td>No</td>\n",
       "    </tr>\n",
       "  </tbody>\n",
       "</table>\n",
       "</div>"
      ],
      "text/plain": [
       "   Barbarian  Prey  Mandy  Upgrade Premiado\n",
       "0         80    60     80       78      Yes\n",
       "1         90    65     57       83      Yes\n",
       "2         70    56     80       67       No\n",
       "3         95    65     78       75       No\n",
       "4         65    60     68       55       No"
      ]
     },
     "execution_count": 13,
     "metadata": {},
     "output_type": "execute_result"
    }
   ],
   "source": [
    "aux_dict = {\"Barbarian\":[80, 90, 70, 95, 65], \n",
    "             \"Prey\":     [60, 65, 56, 65, 60], \n",
    "             \"Mandy\" :   [80, 57, 80, 78, 68],\n",
    "             \"Upgrade\" : [78, 83, 67, 75, 55],\n",
    "             \"Premiado\": [\"Yes\",\"Yes\",\"No\",\"No\",\"No\"]}\n",
    "  \n",
    "df = pd.DataFrame(aux_dict)\n",
    "df"
   ]
  },
  {
   "cell_type": "code",
   "execution_count": 3,
   "id": "a28961a6-3047-4e2e-a35d-1b936f3fea27",
   "metadata": {},
   "outputs": [
    {
     "data": {
      "text/html": [
       "<div>\n",
       "<style scoped>\n",
       "    .dataframe tbody tr th:only-of-type {\n",
       "        vertical-align: middle;\n",
       "    }\n",
       "\n",
       "    .dataframe tbody tr th {\n",
       "        vertical-align: top;\n",
       "    }\n",
       "\n",
       "    .dataframe thead th {\n",
       "        text-align: right;\n",
       "    }\n",
       "</style>\n",
       "<table border=\"1\" class=\"dataframe\">\n",
       "  <thead>\n",
       "    <tr style=\"text-align: right;\">\n",
       "      <th></th>\n",
       "      <th>Barbarian</th>\n",
       "      <th>Prey</th>\n",
       "      <th>Mandy</th>\n",
       "      <th>Upgrade</th>\n",
       "      <th>Premiado</th>\n",
       "      <th>Premiado_dummy</th>\n",
       "    </tr>\n",
       "  </thead>\n",
       "  <tbody>\n",
       "    <tr>\n",
       "      <th>0</th>\n",
       "      <td>80</td>\n",
       "      <td>60</td>\n",
       "      <td>80</td>\n",
       "      <td>78</td>\n",
       "      <td>Yes</td>\n",
       "      <td>1</td>\n",
       "    </tr>\n",
       "    <tr>\n",
       "      <th>1</th>\n",
       "      <td>90</td>\n",
       "      <td>65</td>\n",
       "      <td>57</td>\n",
       "      <td>83</td>\n",
       "      <td>Yes</td>\n",
       "      <td>1</td>\n",
       "    </tr>\n",
       "    <tr>\n",
       "      <th>2</th>\n",
       "      <td>70</td>\n",
       "      <td>56</td>\n",
       "      <td>80</td>\n",
       "      <td>67</td>\n",
       "      <td>No</td>\n",
       "      <td>0</td>\n",
       "    </tr>\n",
       "    <tr>\n",
       "      <th>3</th>\n",
       "      <td>95</td>\n",
       "      <td>65</td>\n",
       "      <td>78</td>\n",
       "      <td>75</td>\n",
       "      <td>No</td>\n",
       "      <td>0</td>\n",
       "    </tr>\n",
       "    <tr>\n",
       "      <th>4</th>\n",
       "      <td>65</td>\n",
       "      <td>60</td>\n",
       "      <td>68</td>\n",
       "      <td>55</td>\n",
       "      <td>No</td>\n",
       "      <td>0</td>\n",
       "    </tr>\n",
       "  </tbody>\n",
       "</table>\n",
       "</div>"
      ],
      "text/plain": [
       "   Barbarian  Prey  Mandy  Upgrade Premiado  Premiado_dummy\n",
       "0         80    60     80       78      Yes               1\n",
       "1         90    65     57       83      Yes               1\n",
       "2         70    56     80       67       No               0\n",
       "3         95    65     78       75       No               0\n",
       "4         65    60     68       55       No               0"
      ]
     },
     "execution_count": 3,
     "metadata": {},
     "output_type": "execute_result"
    }
   ],
   "source": [
    "df[\"Premiado_dummy\"] = df[\"Premiado\"].map({\"Yes\": 1,\n",
    "                                           \"No\":  0})\n",
    " \n",
    "df"
   ]
  },
  {
   "cell_type": "code",
   "execution_count": 4,
   "id": "80c36475-3637-48b0-8d9d-ce2b322184da",
   "metadata": {},
   "outputs": [
    {
     "data": {
      "text/plain": [
       "[4, 10, 12, 8, 4, 4, 6, 10, 8]"
      ]
     },
     "execution_count": 4,
     "metadata": {},
     "output_type": "execute_result"
    }
   ],
   "source": [
    "z = [2,5,6,4,2,2,3,5,4]\n",
    "func2 = lambda x: x * 2\n",
    "\n",
    "mapped_numbers = map(func2, z)\n",
    "list(mapped_numbers)"
   ]
  },
  {
   "cell_type": "code",
   "execution_count": 5,
   "id": "a0c0c4eb-bb24-41c5-a9a3-85d58fa4258b",
   "metadata": {},
   "outputs": [
    {
     "data": {
      "text/plain": [
       "map"
      ]
     },
     "execution_count": 5,
     "metadata": {},
     "output_type": "execute_result"
    }
   ],
   "source": [
    "type(mapped_numbers)"
   ]
  },
  {
   "cell_type": "code",
   "execution_count": 11,
   "id": "a02cbcb7-634b-410b-b253-6d51fe64bdfd",
   "metadata": {},
   "outputs": [
    {
     "data": {
      "text/html": [
       "<div>\n",
       "<style scoped>\n",
       "    .dataframe tbody tr th:only-of-type {\n",
       "        vertical-align: middle;\n",
       "    }\n",
       "\n",
       "    .dataframe tbody tr th {\n",
       "        vertical-align: top;\n",
       "    }\n",
       "\n",
       "    .dataframe thead th {\n",
       "        text-align: right;\n",
       "    }\n",
       "</style>\n",
       "<table border=\"1\" class=\"dataframe\">\n",
       "  <thead>\n",
       "    <tr style=\"text-align: right;\">\n",
       "      <th></th>\n",
       "      <th>Barbarian</th>\n",
       "      <th>Prey</th>\n",
       "      <th>Mandy</th>\n",
       "      <th>Upgrade</th>\n",
       "      <th>Premiado</th>\n",
       "      <th>Premiado_dummy</th>\n",
       "      <th>Upgrade2</th>\n",
       "    </tr>\n",
       "  </thead>\n",
       "  <tbody>\n",
       "    <tr>\n",
       "      <th>0</th>\n",
       "      <td>80</td>\n",
       "      <td>60</td>\n",
       "      <td>80</td>\n",
       "      <td>78</td>\n",
       "      <td>Yes</td>\n",
       "      <td>1</td>\n",
       "      <td>156</td>\n",
       "    </tr>\n",
       "    <tr>\n",
       "      <th>1</th>\n",
       "      <td>90</td>\n",
       "      <td>65</td>\n",
       "      <td>57</td>\n",
       "      <td>83</td>\n",
       "      <td>Yes</td>\n",
       "      <td>1</td>\n",
       "      <td>166</td>\n",
       "    </tr>\n",
       "    <tr>\n",
       "      <th>2</th>\n",
       "      <td>70</td>\n",
       "      <td>56</td>\n",
       "      <td>80</td>\n",
       "      <td>67</td>\n",
       "      <td>No</td>\n",
       "      <td>0</td>\n",
       "      <td>134</td>\n",
       "    </tr>\n",
       "    <tr>\n",
       "      <th>3</th>\n",
       "      <td>95</td>\n",
       "      <td>65</td>\n",
       "      <td>78</td>\n",
       "      <td>75</td>\n",
       "      <td>No</td>\n",
       "      <td>0</td>\n",
       "      <td>150</td>\n",
       "    </tr>\n",
       "    <tr>\n",
       "      <th>4</th>\n",
       "      <td>65</td>\n",
       "      <td>60</td>\n",
       "      <td>68</td>\n",
       "      <td>55</td>\n",
       "      <td>No</td>\n",
       "      <td>0</td>\n",
       "      <td>110</td>\n",
       "    </tr>\n",
       "  </tbody>\n",
       "</table>\n",
       "</div>"
      ],
      "text/plain": [
       "   Barbarian  Prey  Mandy  Upgrade Premiado  Premiado_dummy  Upgrade2\n",
       "0         80    60     80       78      Yes               1       156\n",
       "1         90    65     57       83      Yes               1       166\n",
       "2         70    56     80       67       No               0       134\n",
       "3         95    65     78       75       No               0       150\n",
       "4         65    60     68       55       No               0       110"
      ]
     },
     "execution_count": 11,
     "metadata": {},
     "output_type": "execute_result"
    }
   ],
   "source": [
    "func2 = lambda x: x * 2\n",
    "\n",
    "mapped_numbers = map(func2, df[\"Upgrade\"])\n",
    "df[\"Upgrade2\"] = list(mapped_numbers)\n",
    "df"
   ]
  },
  {
   "cell_type": "code",
   "execution_count": 7,
   "id": "98a6a7d7-9376-4bc0-9cdb-05af75208b36",
   "metadata": {},
   "outputs": [
    {
     "data": {
      "text/plain": [
       "Index(['Barbarian', 'Prey', 'Mandy', 'Upgrade', 'Premiado', 'Premiado_dummy',\n",
       "       'Upgrade2'],\n",
       "      dtype='object')"
      ]
     },
     "execution_count": 7,
     "metadata": {},
     "output_type": "execute_result"
    }
   ],
   "source": [
    "df.columns"
   ]
  },
  {
   "cell_type": "code",
   "execution_count": 8,
   "id": "bb573c21-274c-433d-b887-269a324b2ca2",
   "metadata": {},
   "outputs": [
    {
     "data": {
      "text/plain": [
       "7"
      ]
     },
     "execution_count": 8,
     "metadata": {},
     "output_type": "execute_result"
    }
   ],
   "source": [
    "len(df.columns)"
   ]
  },
  {
   "cell_type": "code",
   "execution_count": 9,
   "id": "18e2a1cf-4815-4bb5-8df3-bc03efccc505",
   "metadata": {},
   "outputs": [
    {
     "data": {
      "text/plain": [
       "[9, 4, 5, 7, 8, 14, 8]"
      ]
     },
     "execution_count": 9,
     "metadata": {},
     "output_type": "execute_result"
    }
   ],
   "source": [
    "def len_names(x):\n",
    "  return len(x)\n",
    "\n",
    "x = map(len_names, df.columns)\n",
    "list(x)"
   ]
  },
  {
   "cell_type": "markdown",
   "id": "10ad6dbe-b86b-4fe0-8195-e40f8f108f4e",
   "metadata": {},
   "source": [
    "## **Apply**\n",
    "\n",
    "Permite aos usuários enviar uma função e aplicá-la em cada valor da série Pandas. \n",
    "Se trata de uma grande melhoria para a biblioteca de pandas, já que essa função ajuda a segregar os dados de acordo com as condições necessárias, motivo pelo qual é utilizada de maneira eficiente na ciência de dados e no aprendizado automático."
   ]
  },
  {
   "cell_type": "code",
   "execution_count": 15,
   "id": "07b20f95-bfbf-4e90-9c01-3c4d6baad36a",
   "metadata": {},
   "outputs": [
    {
     "data": {
      "text/html": [
       "<div>\n",
       "<style scoped>\n",
       "    .dataframe tbody tr th:only-of-type {\n",
       "        vertical-align: middle;\n",
       "    }\n",
       "\n",
       "    .dataframe tbody tr th {\n",
       "        vertical-align: top;\n",
       "    }\n",
       "\n",
       "    .dataframe thead th {\n",
       "        text-align: right;\n",
       "    }\n",
       "</style>\n",
       "<table border=\"1\" class=\"dataframe\">\n",
       "  <thead>\n",
       "    <tr style=\"text-align: right;\">\n",
       "      <th></th>\n",
       "      <th>Barbarian</th>\n",
       "      <th>Prey</th>\n",
       "      <th>Mandy</th>\n",
       "      <th>Upgrade</th>\n",
       "    </tr>\n",
       "  </thead>\n",
       "  <tbody>\n",
       "    <tr>\n",
       "      <th>0</th>\n",
       "      <td>80</td>\n",
       "      <td>60</td>\n",
       "      <td>80</td>\n",
       "      <td>78</td>\n",
       "    </tr>\n",
       "    <tr>\n",
       "      <th>1</th>\n",
       "      <td>90</td>\n",
       "      <td>65</td>\n",
       "      <td>57</td>\n",
       "      <td>83</td>\n",
       "    </tr>\n",
       "    <tr>\n",
       "      <th>2</th>\n",
       "      <td>70</td>\n",
       "      <td>56</td>\n",
       "      <td>80</td>\n",
       "      <td>67</td>\n",
       "    </tr>\n",
       "    <tr>\n",
       "      <th>3</th>\n",
       "      <td>95</td>\n",
       "      <td>65</td>\n",
       "      <td>78</td>\n",
       "      <td>75</td>\n",
       "    </tr>\n",
       "    <tr>\n",
       "      <th>4</th>\n",
       "      <td>65</td>\n",
       "      <td>60</td>\n",
       "      <td>68</td>\n",
       "      <td>55</td>\n",
       "    </tr>\n",
       "  </tbody>\n",
       "</table>\n",
       "</div>"
      ],
      "text/plain": [
       "   Barbarian  Prey  Mandy  Upgrade\n",
       "0         80    60     80       78\n",
       "1         90    65     57       83\n",
       "2         70    56     80       67\n",
       "3         95    65     78       75\n",
       "4         65    60     68       55"
      ]
     },
     "execution_count": 15,
     "metadata": {},
     "output_type": "execute_result"
    }
   ],
   "source": [
    "aux_dict = {\"Barbarian\":[80, 90, 70, 95, 65], \n",
    "             \"Prey\":     [60, 65, 56, 65, 60], \n",
    "             \"Mandy\" :   [80, 57, 80, 78, 68],\n",
    "             \"Upgrade\" : [78, 83, 67, 75, 55]}\n",
    "  \n",
    "df = pd.DataFrame(aux_dict)\n",
    "df"
   ]
  },
  {
   "cell_type": "code",
   "execution_count": 16,
   "id": "9a173868-d1ab-4ca2-8cdd-4b0327a82ac7",
   "metadata": {},
   "outputs": [
    {
     "data": {
      "text/html": [
       "<div>\n",
       "<style scoped>\n",
       "    .dataframe tbody tr th:only-of-type {\n",
       "        vertical-align: middle;\n",
       "    }\n",
       "\n",
       "    .dataframe tbody tr th {\n",
       "        vertical-align: top;\n",
       "    }\n",
       "\n",
       "    .dataframe thead th {\n",
       "        text-align: right;\n",
       "    }\n",
       "</style>\n",
       "<table border=\"1\" class=\"dataframe\">\n",
       "  <thead>\n",
       "    <tr style=\"text-align: right;\">\n",
       "      <th></th>\n",
       "      <th>Barbarian</th>\n",
       "      <th>Prey</th>\n",
       "      <th>Mandy</th>\n",
       "      <th>Upgrade</th>\n",
       "    </tr>\n",
       "  </thead>\n",
       "  <tbody>\n",
       "    <tr>\n",
       "      <th>0</th>\n",
       "      <td>8.944272</td>\n",
       "      <td>7.745967</td>\n",
       "      <td>8.944272</td>\n",
       "      <td>8.831761</td>\n",
       "    </tr>\n",
       "    <tr>\n",
       "      <th>1</th>\n",
       "      <td>9.486833</td>\n",
       "      <td>8.062258</td>\n",
       "      <td>7.549834</td>\n",
       "      <td>9.110434</td>\n",
       "    </tr>\n",
       "    <tr>\n",
       "      <th>2</th>\n",
       "      <td>8.366600</td>\n",
       "      <td>7.483315</td>\n",
       "      <td>8.944272</td>\n",
       "      <td>8.185353</td>\n",
       "    </tr>\n",
       "    <tr>\n",
       "      <th>3</th>\n",
       "      <td>9.746794</td>\n",
       "      <td>8.062258</td>\n",
       "      <td>8.831761</td>\n",
       "      <td>8.660254</td>\n",
       "    </tr>\n",
       "    <tr>\n",
       "      <th>4</th>\n",
       "      <td>8.062258</td>\n",
       "      <td>7.745967</td>\n",
       "      <td>8.246211</td>\n",
       "      <td>7.416198</td>\n",
       "    </tr>\n",
       "  </tbody>\n",
       "</table>\n",
       "</div>"
      ],
      "text/plain": [
       "   Barbarian      Prey     Mandy   Upgrade\n",
       "0   8.944272  7.745967  8.944272  8.831761\n",
       "1   9.486833  8.062258  7.549834  9.110434\n",
       "2   8.366600  7.483315  8.944272  8.185353\n",
       "3   9.746794  8.062258  8.831761  8.660254\n",
       "4   8.062258  7.745967  8.246211  7.416198"
      ]
     },
     "execution_count": 16,
     "metadata": {},
     "output_type": "execute_result"
    }
   ],
   "source": [
    "df.apply(np.sqrt)"
   ]
  },
  {
   "cell_type": "code",
   "execution_count": 17,
   "id": "bdadd549-45f1-4181-964c-0ac51d1cd2e3",
   "metadata": {},
   "outputs": [
    {
     "data": {
      "text/html": [
       "<div>\n",
       "<style scoped>\n",
       "    .dataframe tbody tr th:only-of-type {\n",
       "        vertical-align: middle;\n",
       "    }\n",
       "\n",
       "    .dataframe tbody tr th {\n",
       "        vertical-align: top;\n",
       "    }\n",
       "\n",
       "    .dataframe thead th {\n",
       "        text-align: right;\n",
       "    }\n",
       "</style>\n",
       "<table border=\"1\" class=\"dataframe\">\n",
       "  <thead>\n",
       "    <tr style=\"text-align: right;\">\n",
       "      <th></th>\n",
       "      <th>Barbarian</th>\n",
       "      <th>Prey</th>\n",
       "      <th>Mandy</th>\n",
       "      <th>Upgrade</th>\n",
       "    </tr>\n",
       "  </thead>\n",
       "  <tbody>\n",
       "    <tr>\n",
       "      <th>0</th>\n",
       "      <td>-0.993889</td>\n",
       "      <td>-0.304811</td>\n",
       "      <td>-0.993889</td>\n",
       "      <td>0.513978</td>\n",
       "    </tr>\n",
       "    <tr>\n",
       "      <th>1</th>\n",
       "      <td>0.893997</td>\n",
       "      <td>0.826829</td>\n",
       "      <td>0.436165</td>\n",
       "      <td>0.968364</td>\n",
       "    </tr>\n",
       "    <tr>\n",
       "      <th>2</th>\n",
       "      <td>0.773891</td>\n",
       "      <td>-0.521551</td>\n",
       "      <td>-0.993889</td>\n",
       "      <td>-0.855520</td>\n",
       "    </tr>\n",
       "    <tr>\n",
       "      <th>3</th>\n",
       "      <td>0.683262</td>\n",
       "      <td>0.826829</td>\n",
       "      <td>0.513978</td>\n",
       "      <td>-0.387782</td>\n",
       "    </tr>\n",
       "    <tr>\n",
       "      <th>4</th>\n",
       "      <td>0.826829</td>\n",
       "      <td>-0.304811</td>\n",
       "      <td>-0.897928</td>\n",
       "      <td>-0.999755</td>\n",
       "    </tr>\n",
       "  </tbody>\n",
       "</table>\n",
       "</div>"
      ],
      "text/plain": [
       "   Barbarian      Prey     Mandy   Upgrade\n",
       "0  -0.993889 -0.304811 -0.993889  0.513978\n",
       "1   0.893997  0.826829  0.436165  0.968364\n",
       "2   0.773891 -0.521551 -0.993889 -0.855520\n",
       "3   0.683262  0.826829  0.513978 -0.387782\n",
       "4   0.826829 -0.304811 -0.897928 -0.999755"
      ]
     },
     "execution_count": 17,
     "metadata": {},
     "output_type": "execute_result"
    }
   ],
   "source": [
    "df.apply(np.sin)"
   ]
  },
  {
   "cell_type": "code",
   "execution_count": 18,
   "id": "c34bf5d7-b5c4-4b0c-a94f-c0bb99d3ae18",
   "metadata": {},
   "outputs": [
    {
     "data": {
      "text/plain": [
       "Barbarian    14.252193\n",
       "Prey          5.603408\n",
       "Mandy        12.369115\n",
       "Upgrade      13.672892\n",
       "dtype: float64"
      ]
     },
     "execution_count": 18,
     "metadata": {},
     "output_type": "execute_result"
    }
   ],
   "source": [
    "cv = lambda x: np.std(x) / np.mean(x) * 100\n",
    "df.apply(cv)"
   ]
  },
  {
   "cell_type": "code",
   "execution_count": 19,
   "id": "d3d1f5c3-106f-45ca-b652-7f080bec786c",
   "metadata": {},
   "outputs": [
    {
     "data": {
      "text/plain": [
       "Barbarian    14.252193\n",
       "Prey          5.603408\n",
       "Mandy        12.369115\n",
       "Upgrade      13.672892\n",
       "dtype: float64"
      ]
     },
     "execution_count": 19,
     "metadata": {},
     "output_type": "execute_result"
    }
   ],
   "source": [
    "def cv2(x):\n",
    "  cv = np.std(x) / np.mean(x) * 100\n",
    "  return(cv)\n",
    "\n",
    "df.apply(cv2)"
   ]
  },
  {
   "cell_type": "code",
   "execution_count": 20,
   "id": "d5732d73-6685-4c23-8682-21b680c18a76",
   "metadata": {},
   "outputs": [
    {
     "data": {
      "text/plain": [
       "0    298\n",
       "1    295\n",
       "2    273\n",
       "3    313\n",
       "4    248\n",
       "dtype: int64"
      ]
     },
     "execution_count": 20,
     "metadata": {},
     "output_type": "execute_result"
    }
   ],
   "source": [
    "df.apply(np.sum, axis = 1)"
   ]
  },
  {
   "cell_type": "code",
   "execution_count": 21,
   "id": "da066e11-3d1e-4e50-8d42-0a216d91b272",
   "metadata": {},
   "outputs": [
    {
     "name": "stdout",
     "output_type": "stream",
     "text": [
      "     A    B\n",
      "0  102  111\n",
      "1  103  121\n",
      "2  104  131\n"
     ]
    }
   ],
   "source": [
    "def soma(x, z, k):\n",
    "    return x + z + k\n",
    "\n",
    "df = pd.DataFrame({'A': [1, 2, 3], 'B': [10, 20, 30]})\n",
    "\n",
    "df1 = df.apply(soma, z = 1, k = 100)\n",
    "print(df1)"
   ]
  },
  {
   "cell_type": "markdown",
   "id": "49873dd1-56e9-445f-861f-33d3c945b35a",
   "metadata": {},
   "source": [
    "## **Dados Ausentes**\n",
    "\n",
    "### **Dados ausentes. Por quê?**\n",
    "\n",
    "* Como futuros Data Scientists, será comum se deparar com valores ausentes ou faltantes que poderiam vir das seguintes situações:\n",
    "    * Falhas em alguma etapa do carregamento de dados.\n",
    "    * Omissão direta do carregamento de dados.\n",
    "    * Receio de um entrevistado em dar determinada resposta.\n",
    "\n",
    "_Os valores ausentes são mais comuns do que pensa!_\n",
    "\n",
    "### **Revisão com dados ausentes**\n",
    "\n",
    "* Esses valores podem não ser adequados para alguns algoritmos de Data Science. Por isso, devem ser manipulados corretamente.\n",
    "* O pandas nos disponibiliza ferramentas para trabalhar com eles.\n",
    "\n",
    "_Antes de tudo, vamos definir nosso conjunto de teste:_\n",
    "\n",
    "* Podemos marcá-los: ```Numeros_nan.isnull()```\n",
    "* Podemos substituí-los: ```Numeros_nan.fillna(0)```\n",
    "* Podemos eliminá-los: ```Numeros_nan.dropna()```\n",
    "\n",
    "O **dropna** tem alguns parâmetros que valem uma conferida."
   ]
  },
  {
   "cell_type": "code",
   "execution_count": null,
   "id": "9a69e173-6da2-4fae-a670-0ccae55009ee",
   "metadata": {},
   "outputs": [],
   "source": []
  },
  {
   "cell_type": "code",
   "execution_count": null,
   "id": "2b384149-6635-4710-8394-9429330ee906",
   "metadata": {},
   "outputs": [],
   "source": []
  },
  {
   "cell_type": "code",
   "execution_count": null,
   "id": "b5fc31fb-bfbc-4cdd-a33c-2639a973227e",
   "metadata": {},
   "outputs": [],
   "source": []
  },
  {
   "cell_type": "code",
   "execution_count": null,
   "id": "3d2d3b9b-2fa6-472d-a5d2-c858cafdc922",
   "metadata": {},
   "outputs": [],
   "source": []
  },
  {
   "cell_type": "code",
   "execution_count": null,
   "id": "c96bbec6-8d07-4247-8f89-c9d85fd2c4dc",
   "metadata": {},
   "outputs": [],
   "source": []
  },
  {
   "cell_type": "code",
   "execution_count": null,
   "id": "60a77232-b919-4038-9e23-84512f4cd854",
   "metadata": {},
   "outputs": [],
   "source": []
  },
  {
   "cell_type": "code",
   "execution_count": 1,
   "id": "08a3257d-da17-4de4-85b7-6ade81bc1de6",
   "metadata": {},
   "outputs": [],
   "source": [
    "import pandas as pd\n",
    "import numpy as np"
   ]
  },
  {
   "cell_type": "code",
   "execution_count": 2,
   "id": "a6439ee1-cd31-446f-b1a6-b5441b745910",
   "metadata": {},
   "outputs": [
    {
     "data": {
      "text/html": [
       "<div>\n",
       "<style scoped>\n",
       "    .dataframe tbody tr th:only-of-type {\n",
       "        vertical-align: middle;\n",
       "    }\n",
       "\n",
       "    .dataframe tbody tr th {\n",
       "        vertical-align: top;\n",
       "    }\n",
       "\n",
       "    .dataframe thead th {\n",
       "        text-align: right;\n",
       "    }\n",
       "</style>\n",
       "<table border=\"1\" class=\"dataframe\">\n",
       "  <thead>\n",
       "    <tr style=\"text-align: right;\">\n",
       "      <th></th>\n",
       "      <th>Age</th>\n",
       "      <th>Sex</th>\n",
       "      <th>ID</th>\n",
       "      <th>Race</th>\n",
       "      <th>Country</th>\n",
       "      <th>Education</th>\n",
       "      <th>Education-Num</th>\n",
       "      <th>Marital Status</th>\n",
       "      <th>Relationship</th>\n",
       "    </tr>\n",
       "  </thead>\n",
       "  <tbody>\n",
       "    <tr>\n",
       "      <th>0</th>\n",
       "      <td>39.0</td>\n",
       "      <td>Male</td>\n",
       "      <td>49084</td>\n",
       "      <td>White</td>\n",
       "      <td>United-States</td>\n",
       "      <td>Bachelors</td>\n",
       "      <td>13.0</td>\n",
       "      <td>Never-married</td>\n",
       "      <td>Not-in-family</td>\n",
       "    </tr>\n",
       "    <tr>\n",
       "      <th>1</th>\n",
       "      <td>50.0</td>\n",
       "      <td>Male</td>\n",
       "      <td>68553</td>\n",
       "      <td>White</td>\n",
       "      <td>United-States</td>\n",
       "      <td>Bachelors</td>\n",
       "      <td>13.0</td>\n",
       "      <td>Married-civ-spouse</td>\n",
       "      <td>Husband</td>\n",
       "    </tr>\n",
       "    <tr>\n",
       "      <th>2</th>\n",
       "      <td>38.0</td>\n",
       "      <td>Male</td>\n",
       "      <td>143654</td>\n",
       "      <td>White</td>\n",
       "      <td>United-States</td>\n",
       "      <td>HS-grad</td>\n",
       "      <td>9.0</td>\n",
       "      <td>Divorced</td>\n",
       "      <td>Not-in-family</td>\n",
       "    </tr>\n",
       "    <tr>\n",
       "      <th>3</th>\n",
       "      <td>53.0</td>\n",
       "      <td>Male</td>\n",
       "      <td>41510</td>\n",
       "      <td>Black</td>\n",
       "      <td>United-States</td>\n",
       "      <td>11th</td>\n",
       "      <td>7.0</td>\n",
       "      <td>Married-civ-spouse</td>\n",
       "      <td>Husband</td>\n",
       "    </tr>\n",
       "    <tr>\n",
       "      <th>4</th>\n",
       "      <td>28.0</td>\n",
       "      <td>Female</td>\n",
       "      <td>195025</td>\n",
       "      <td>Black</td>\n",
       "      <td>Cuba</td>\n",
       "      <td>Bachelors</td>\n",
       "      <td>13.0</td>\n",
       "      <td>Married-civ-spouse</td>\n",
       "      <td>Wife</td>\n",
       "    </tr>\n",
       "  </tbody>\n",
       "</table>\n",
       "</div>"
      ],
      "text/plain": [
       "    Age      Sex      ID    Race         Country   Education  Education-Num  \\\n",
       "0  39.0     Male   49084   White   United-States   Bachelors           13.0   \n",
       "1  50.0     Male   68553   White   United-States   Bachelors           13.0   \n",
       "2  38.0     Male  143654   White   United-States     HS-grad            9.0   \n",
       "3  53.0     Male   41510   Black   United-States        11th            7.0   \n",
       "4  28.0   Female  195025   Black            Cuba   Bachelors           13.0   \n",
       "\n",
       "        Marital Status    Relationship  \n",
       "0        Never-married   Not-in-family  \n",
       "1   Married-civ-spouse         Husband  \n",
       "2             Divorced   Not-in-family  \n",
       "3   Married-civ-spouse         Husband  \n",
       "4   Married-civ-spouse            Wife  "
      ]
     },
     "execution_count": 2,
     "metadata": {},
     "output_type": "execute_result"
    }
   ],
   "source": [
    "p_data_df = pd.read_csv('https://raw.githubusercontent.com/jherfson/curso-coderhouse/main/aula13/p_data.csv', sep=';')\n",
    "p_data_df.head()"
   ]
  },
  {
   "cell_type": "code",
   "execution_count": 3,
   "id": "7eabeb30-1c1f-45d5-b387-e0af42b8fe4b",
   "metadata": {},
   "outputs": [
    {
     "name": "stdout",
     "output_type": "stream",
     "text": [
      "<class 'pandas.core.frame.DataFrame'>\n",
      "RangeIndex: 48842 entries, 0 to 48841\n",
      "Data columns (total 9 columns):\n",
      " #   Column          Non-Null Count  Dtype  \n",
      "---  ------          --------------  -----  \n",
      " 0   Age             48841 non-null  float64\n",
      " 1   Sex             48841 non-null  object \n",
      " 2   ID              48842 non-null  int64  \n",
      " 3   Race            48841 non-null  object \n",
      " 4   Country         48841 non-null  object \n",
      " 5   Education       48841 non-null  object \n",
      " 6   Education-Num   48841 non-null  float64\n",
      " 7   Marital Status  48841 non-null  object \n",
      " 8   Relationship    48841 non-null  object \n",
      "dtypes: float64(2), int64(1), object(6)\n",
      "memory usage: 3.4+ MB\n"
     ]
    }
   ],
   "source": [
    "p_data_df.info()"
   ]
  },
  {
   "cell_type": "code",
   "execution_count": 4,
   "id": "c61193e4-75f2-415d-a37a-bbbd507ddaa9",
   "metadata": {},
   "outputs": [
    {
     "name": "stdout",
     "output_type": "stream",
     "text": [
      "<class 'pandas.core.frame.DataFrame'>\n",
      "Index: 48841 entries, 0 to 48841\n",
      "Data columns (total 9 columns):\n",
      " #   Column          Non-Null Count  Dtype  \n",
      "---  ------          --------------  -----  \n",
      " 0   Age             48841 non-null  float64\n",
      " 1   Sex             48841 non-null  object \n",
      " 2   ID              48841 non-null  int64  \n",
      " 3   Race            48841 non-null  object \n",
      " 4   Country         48841 non-null  object \n",
      " 5   Education       48841 non-null  object \n",
      " 6   Education-Num   48841 non-null  float64\n",
      " 7   Marital Status  48841 non-null  object \n",
      " 8   Relationship    48841 non-null  object \n",
      "dtypes: float64(2), int64(1), object(6)\n",
      "memory usage: 3.7+ MB\n"
     ]
    }
   ],
   "source": [
    "p_data_df = p_data_df.dropna()\n",
    "p_data_df.info()"
   ]
  },
  {
   "cell_type": "code",
   "execution_count": 5,
   "id": "e743dfdd-8a7e-4830-8eaf-b70991f36114",
   "metadata": {},
   "outputs": [
    {
     "data": {
      "text/plain": [
       "array([' Male', ' Female'], dtype=object)"
      ]
     },
     "execution_count": 5,
     "metadata": {},
     "output_type": "execute_result"
    }
   ],
   "source": [
    "p_data_df['Sex'].unique()"
   ]
  },
  {
   "cell_type": "code",
   "execution_count": 7,
   "id": "281c28cb-a349-4135-b775-e781bbd8be58",
   "metadata": {},
   "outputs": [
    {
     "data": {
      "text/plain": [
       "array(['Male', 'Female'], dtype=object)"
      ]
     },
     "execution_count": 7,
     "metadata": {},
     "output_type": "execute_result"
    }
   ],
   "source": [
    "p_data_df['Sex'] = p_data_df['Sex'].str.strip()\n",
    "p_data_df['Sex'].unique()"
   ]
  },
  {
   "cell_type": "code",
   "execution_count": null,
   "id": "11febca4-5a15-42ba-bd0a-5a4f4d8dcc35",
   "metadata": {},
   "outputs": [],
   "source": []
  }
 ],
 "metadata": {
  "kernelspec": {
   "display_name": "Python 3 (ipykernel)",
   "language": "python",
   "name": "python3"
  },
  "language_info": {
   "codemirror_mode": {
    "name": "ipython",
    "version": 3
   },
   "file_extension": ".py",
   "mimetype": "text/x-python",
   "name": "python",
   "nbconvert_exporter": "python",
   "pygments_lexer": "ipython3",
   "version": "3.10.14"
  }
 },
 "nbformat": 4,
 "nbformat_minor": 5
}
