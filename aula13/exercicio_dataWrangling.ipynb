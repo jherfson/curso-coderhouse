{
 "cells": [
  {
   "cell_type": "markdown",
   "id": "1d413cb3-3c40-432d-8363-0130835f9993",
   "metadata": {},
   "source": [
    "# **Data Acquisition e Data Wrangling**\n",
    "\n",
    "## **Exercício 1:**\n",
    "Ler os dados do banco **nba_salary.sqlite**. Extrair ambas as tabelas.\n",
    "\n",
    "## **Exercício 2:**\n",
    "Verificar quantos dados nulos estão presentes em cada tabela. \n",
    "Analisar quais colunas e linhas você eliminaria. \n",
    "Se possível aplique alguma técnica de imputação\n",
    "\n",
    "## **Exercício 3:**\n",
    "Da tabela de **Seasons_Stats**, selecione apenas o ano 2017. \n",
    "Analisar porque vários jogadores aparecem várias vezes em um mesmo ano. \n",
    "O mesmo para a tabela **From NBA_season1718_salary**."
   ]
  },
  {
   "cell_type": "code",
   "execution_count": null,
   "id": "7fcd1376-81cf-44d3-aafe-78885db37736",
   "metadata": {},
   "outputs": [],
   "source": []
  }
 ],
 "metadata": {
  "kernelspec": {
   "display_name": "Python 3 (ipykernel)",
   "language": "python",
   "name": "python3"
  },
  "language_info": {
   "codemirror_mode": {
    "name": "ipython",
    "version": 3
   },
   "file_extension": ".py",
   "mimetype": "text/x-python",
   "name": "python",
   "nbconvert_exporter": "python",
   "pygments_lexer": "ipython3",
   "version": "3.10.14"
  }
 },
 "nbformat": 4,
 "nbformat_minor": 5
}
