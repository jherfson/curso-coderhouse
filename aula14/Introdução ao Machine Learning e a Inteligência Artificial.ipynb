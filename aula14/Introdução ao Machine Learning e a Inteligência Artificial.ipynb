{
 "cells": [
  {
   "cell_type": "markdown",
   "id": "b05042d4-7d8d-46c6-a241-6cd2790af2ce",
   "metadata": {},
   "source": [
    "# **Introdução ao Machine Learning e a Inteligência Artificial**"
   ]
  },
  {
   "cell_type": "code",
   "execution_count": null,
   "id": "5b17bd81-7c07-4a1a-9083-2fd583370318",
   "metadata": {},
   "outputs": [],
   "source": []
  }
 ],
 "metadata": {
  "kernelspec": {
   "display_name": "Python 3 (ipykernel)",
   "language": "python",
   "name": "python3"
  },
  "language_info": {
   "codemirror_mode": {
    "name": "ipython",
    "version": 3
   },
   "file_extension": ".py",
   "mimetype": "text/x-python",
   "name": "python",
   "nbconvert_exporter": "python",
   "pygments_lexer": "ipython3",
   "version": "3.10.14"
  }
 },
 "nbformat": 4,
 "nbformat_minor": 5
}
