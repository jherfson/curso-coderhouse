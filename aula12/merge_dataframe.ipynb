{
 "cells": [
  {
   "cell_type": "markdown",
   "id": "cedf54f6-9071-4578-b8e6-653615821d01",
   "metadata": {},
   "source": [
    "## **Merge com DataFrame**\n",
    "\n",
    "### **Descrição:**\n",
    "### **Vamos aplicar os conceitos aprendidos**\n",
    "Neste desafio, propomos a leitura dos arquivos com Pandas e a utilização das funções merge e concatenate para gerar novos DataFrames.\n",
    "Trabalharemos em grupos aleatórios, com as seguintes instruções:\n",
    "1. Ler os arquivos excel aula0.xlsx e aula1.xlsx, disponível na pasta de aula, e realizar um merge com diferentes estratégias (inner, outer, left e right). \n",
    "O que observam?\n",
    "2. Com os mesmos DataFrames, utilize a função concat. \n",
    "O que podemos concluir?"
   ]
  },
  {
   "cell_type": "code",
   "execution_count": null,
   "id": "a485e6d7-22ac-4814-ae7b-12a4cf53afa8",
   "metadata": {},
   "outputs": [],
   "source": []
  }
 ],
 "metadata": {
  "kernelspec": {
   "display_name": "Python 3 (ipykernel)",
   "language": "python",
   "name": "python3"
  },
  "language_info": {
   "codemirror_mode": {
    "name": "ipython",
    "version": 3
   },
   "file_extension": ".py",
   "mimetype": "text/x-python",
   "name": "python",
   "nbconvert_exporter": "python",
   "pygments_lexer": "ipython3",
   "version": "3.10.14"
  }
 },
 "nbformat": 4,
 "nbformat_minor": 5
}
