{
 "cells": [
  {
   "cell_type": "markdown",
   "id": "f1c33f82-6d4f-4800-a5c3-c7068a582443",
   "metadata": {},
   "source": [
    "# **Data Acquisition II**\n",
    "\n",
    "## **Ajuste de decimais e encoding**\n",
    "\n",
    "### **Decimais**"
   ]
  },
  {
   "cell_type": "markdown",
   "id": "91988825-7a81-4d45-a802-0749df9ef501",
   "metadata": {},
   "source": [
    "```\n",
    "df  = pd.read_csv(\"/content/decimals.txt\",\n",
    "                sep=\";\", \n",
    "                decimal=\",\", \n",
    "                thousands=\".\", \n",
    "                index_col=False)\n",
    "df\n",
    "```"
   ]
  },
  {
   "cell_type": "markdown",
   "id": "1a0cfbd4-1d7b-4d49-934b-30697dd6c3ca",
   "metadata": {},
   "source": [
    "```\n",
    "ANO \tID_SEG \tCOD_UF \tRENDA \tMES \tSB_CONS \tSB_ESCO \tSB_TRAT \tSB_U \tSB_G \tPOP \tV10 \tV11 \tV12 \tURG\n",
    "0 \t2012 \t4 \t10 \t19712 \t4 \t28 \t164 \t3 \t16 \t0 \t5274 \t0.530906 \t3.109594 \t0.107143 \t0.303375\n",
    "1 \t2012 \t4 \t10 \t2547 \t5 \t13 \t0 \t6 \t23 \t0 \t5274 \t0.246492 \t0.000000 \t0.461538 \t0.436102\n",
    "2 \t2012 \t4 \t10 \t54598 \t6 \t8 \t135 \t7 \t12 \t0 \t5274 \t0.151688 \t2.559727 \t0.875000 \t0.227531\n",
    "3 \t2012 \t4 \t10 \t20712 \t7 \t0 \t0 \t0 \t0 \t0 \t5274 \t0.000000 \t0.000000 \tNaN \t0.000000\n",
    "```\n"
   ]
  },
  {
   "cell_type": "markdown",
   "id": "20f7f65b-8cfa-4555-b877-5a2e79fd949e",
   "metadata": {},
   "source": [
    "```df.dtypes```"
   ]
  },
  {
   "cell_type": "markdown",
   "id": "3de91d77-0848-4a2b-a201-04e471b79c0e",
   "metadata": {},
   "source": [
    "```\n",
    "NO          int64\n",
    "ID_SEG       int64\n",
    "COD_UF       int64\n",
    "RENDA        int64\n",
    "MES          int64\n",
    "SB_CONS      int64\n",
    "SB_ESCO      int64\n",
    "SB_TRAT      int64\n",
    "SB_U         int64\n",
    "SB_G         int64\n",
    "POP          int64\n",
    "V10        float64\n",
    "V11        float64\n",
    "V12        float64\n",
    "URG        float64\n",
    "dtype: object\n",
    "```"
   ]
  },
  {
   "cell_type": "markdown",
   "id": "91bab80d-ff75-472d-8c84-c3bb268fe576",
   "metadata": {},
   "source": [
    "### **Encoding**\n",
    "\n",
    "**Encoding** é uma técnica que define regras para armazenar os code points dos caracteres que compõem as _string_ na memória do computador. Existem vários deles: _UTF-8_, _ISO-8859-1_, _UCS-2_, _windows-1252_ e assim por diante.\n",
    "```\n",
    "encoding = 'latin1'\n",
    "encoding = 'ISO-8859-1'\n",
    "encoding = 'cp1251'\n",
    "encoding = 'utf-8'\n",
    "```"
   ]
  },
  {
   "cell_type": "markdown",
   "id": "530caf3c-d769-42a4-aa39-e9788ae4379b",
   "metadata": {},
   "source": [
    "## **Conexão a modelos relacionais SQL usando Pandas**\n",
    "\n",
    "### **Revisão sobre banco de dados**\n",
    "#### **Os bancos de dados relacionais**\n",
    "* Organizam dados sobre entidades em tabelas.\n",
    "* Representam os dados como **um conjunto de tabelas em duas dimensões, formadas por linhas e colunas**. Cada linha ou registro é uma instância de uma entidade. Cada coluna tem a informação de um atributo.\n",
    "* Frequentemente, os **bancos de dados relacionais contém várias tabelas relacionadas entre si**, o que permite que a informação seja armazenada de forma mais compacta.\n",
    "* Suportam uma grande quantidade de dados, vários usuários simultaneamente e controles de qualidade dos dados.\n",
    "* Os tipos dos dados estão especificados em cada coluna.\n",
    "* Usamos o **SQL** (Structured Query Language) para interagir com o banco de dados. \n",
    "\n",
    "#### **Como acessar bancos de dados relacionais através do Pandas**\n",
    "##### **Bibliotecas para acessar o DataFrama**\n",
    "\n",
    "Carregar dados a um DataFrame pode ser bem simples com o uso das seguintes bibliotecas:\n",
    "1. Sqlalchemy\n",
    "2. Sqllite3\n",
    "3. cx_Oracle\n",
    "4. Pyodbc\n",
    "5. etc\n",
    "\n",
    "##### **SQLITE3**\n",
    "###### **Uso de sqlite3 e Pandas**\n",
    "\n",
    "* Com pandas, é muito simples combinar o motor particular usado e transformá-lo em um DataFrame usando SQL como string.\n",
    "* Criamos a conexão com sqlite3 e, junto com uma query sql, a usamos de argumento com o método read_sql_query do Pandas.\n",
    "```\n",
    "con = sqlite3.connect(base_sql)\n",
    "df = pd.read_sql_query(sql, con)\n",
    "```\n",
    "1. Criamos a query SQL como string para extrair todas as tabelas do banco de dados.\n",
    "2. Geramos a conexão ao banco **nba_salary.sqlite**.\n",
    "3. Integramos o dataframe com a query e a conexão criada anteriormente.\n",
    "4. Fazemos um print do DataFrame (Nesse caso, tem apenas dois elementos) e se encerra a conexão."
   ]
  },
  {
   "cell_type": "code",
   "execution_count": null,
   "id": "ef764ed4-9a7a-47d1-b371-c83ed482cda3",
   "metadata": {},
   "outputs": [],
   "source": []
  }
 ],
 "metadata": {
  "kernelspec": {
   "display_name": "Python 3 (ipykernel)",
   "language": "python",
   "name": "python3"
  },
  "language_info": {
   "codemirror_mode": {
    "name": "ipython",
    "version": 3
   },
   "file_extension": ".py",
   "mimetype": "text/x-python",
   "name": "python",
   "nbconvert_exporter": "python",
   "pygments_lexer": "ipython3",
   "version": "3.10.14"
  }
 },
 "nbformat": 4,
 "nbformat_minor": 5
}
