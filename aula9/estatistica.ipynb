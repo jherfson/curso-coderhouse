{
 "cells": [
  {
   "cell_type": "markdown",
   "id": "6c161d33-c519-48b2-bb9a-a2f39d878f64",
   "metadata": {},
   "source": [
    "# **EStatística Descritiva**\n",
    "\n",
    "## **Como conhecer os dados**\n",
    "\n",
    "**Descrição + Análise**\n",
    "\n",
    "A **estatística descritiva** é um ramo da estatística que nos ajuda a **entender** melhor os dados.\n",
    "\n",
    "## **Tipos de variáveis e tipos de dados**\n",
    "\n",
    "* Os tipos de variáveis são **análogos em seu conceito** aos tipos de dados.\n",
    "* Existem, porque há operações que podemos fazer com alguns deles mas, com outros não.\n",
    "* A divisão mais prática para Data Science:\n",
    "    * Quantitativas\n",
    "    * Qualitativas\n",
    "    \n",
    "### **Variáveis Quantitativas**\n",
    "\n",
    "* São variáveis para as quais **somar**, **substrair** ou **calcular a média** faz sentido.\n",
    "* Em geral, **são numéricas** e pertencem ao conjunto dos números reais ou a um de seus subconjuntos.\n",
    "\n",
    "```peso      = [80.5, 92.0, 55.8, 75.1, 58.3]```\n",
    "\n",
    "```idade     = [18, 55, 54, 19, 31, 42, 27]```\n",
    "\n",
    "```proporcao = [0.1, 0.23, 0.15, 0.58, 0.90]```\n",
    "\n",
    "**Exemplos**\n",
    "* As **alturas das pessoas podem** ser medidas em centímetros, e as **idades** podem ser medidas **em números inteiros**.\n",
    "* Mas, serve para propósitos práticos, nossa idade aumenta dia à dia, segundo a segundo.\n",
    "* ter 20,4 anos de idade pode ser muito importante para um estudo médico, mas não para as idades dos consumidores de um produto.\n",
    "\n",
    "**Check**\n",
    "Se eu somar, subtrair ou calcular a média dos valores, o resultado faz sentido?\n",
    "Se fizer sentido para qualquer um desses casos, estamos lidando com uma variável numérica.\n",
    "Devemos ter em mente que sempre **depende do problema** que estamos enfrentando.\n",
    "\n",
    "**Exemplos**\n",
    "* Você gosta dos gêneros de filmes listados a seguir?\n",
    "    * Terror: Sim | Não\n",
    "    * Suspense: Sim | Não\n",
    "    * Drama: Sim | Não\n",
    "```terror    = [“sim”, “não”, “não”, “não”, “não”, “não”, “não”]```\n",
    "\n",
    "```suspense  = [“sim”, “sim”, “sim”, “não”, “não”, “não”, “sim”]```\n",
    "\n",
    "```drama     = [“sim”, “sim”, “sim”, “não”, “sim”, “não”, “sim”]```\n",
    "\n",
    "ou\n",
    "\n",
    "```Sim = 1```\n",
    "```Não = 0```\n",
    "\n",
    "```terror    = [1, 0, 0, 0, 0, 0, 0]```\n",
    "\n",
    "```suspense  = [1, 1, 1, 0, 0, 0, 1]```\n",
    "\n",
    "```drama     = [1, 1, 1, 0, 1, 0, 1]```\n",
    "\n",
    "**Exemplo**\n",
    "* Vamos descobrir a % de respostas sim?\n",
    "* A média faz sentido nesse tipo de informação?"
   ]
  },
  {
   "cell_type": "code",
   "execution_count": 14,
   "id": "5129b139-3bf6-4fa8-bf0b-e01e150dbd98",
   "metadata": {
    "tags": []
   },
   "outputs": [],
   "source": [
    "import matplotlib as mpl\n",
    "import pandas as pd\n",
    "import numpy as np\n",
    "import matplotlib.pyplot as plt\n",
    "import seaborn as sns"
   ]
  },
  {
   "cell_type": "code",
   "execution_count": 30,
   "id": "80be99e6-e198-4152-a427-008c361293c7",
   "metadata": {
    "tags": []
   },
   "outputs": [
    {
     "name": "stdout",
     "output_type": "stream",
     "text": [
      "\n",
      " [1 0 0 0 0 0 0 1] \n",
      " [1 1 1 0 0 0 1 1] \n",
      " [1 1 1 0 1 0 1 1]\n"
     ]
    }
   ],
   "source": [
    "# Sim = 1\n",
    "# Não = 0\n",
    "\n",
    "terror    = np.array([1, 0, 0, 0, 0, 0, 0, 1])\n",
    "suspense  = np.array([1, 1, 1, 0, 0, 0, 1, 1])\n",
    "drama     = np.array([1, 1, 1, 0, 1, 0, 1, 1])\n",
    "\n",
    "print('\\n', terror, '\\n', suspense, '\\n', drama)"
   ]
  },
  {
   "cell_type": "code",
   "execution_count": 34,
   "id": "5cd9f19f-6ef5-4bf5-8f21-36733da32cd0",
   "metadata": {
    "tags": []
   },
   "outputs": [
    {
     "name": "stdout",
     "output_type": "stream",
     "text": [
      "Soma terror: 2, Soma suspense: 5, Soma drama: 6\n"
     ]
    },
    {
     "data": {
      "text/plain": [
       "8"
      ]
     },
     "execution_count": 34,
     "metadata": {},
     "output_type": "execute_result"
    }
   ],
   "source": [
    "sum_terror = terror.sum()\n",
    "sum_suspense = suspense.sum()\n",
    "sum_drama = drama.sum()\n",
    "n = terror.size\n",
    "\n",
    "print(f'Soma terror: {sum_terror}, Soma suspense: {sum_suspense}, Soma drama: {sum_drama}')\n",
    "n"
   ]
  },
  {
   "cell_type": "code",
   "execution_count": 38,
   "id": "2d91721b-82f1-41de-864f-6a2e0f000b7f",
   "metadata": {
    "tags": []
   },
   "outputs": [
    {
     "name": "stdout",
     "output_type": "stream",
     "text": [
      "Terror: 25.00, Suspense: 62.50, Drama: 75.00,\n"
     ]
    }
   ],
   "source": [
    "pc_terror = (sum_terror/n) * 100\n",
    "pc_suspense = (sum_suspense/n) * 100\n",
    "pc_drama = (sum_drama/n) * 100\n",
    "\n",
    "# https://python-course.eu/python-tutorial/formatted-output.php\n",
    "print(\"Terror: %4.2f, Suspense: %4.2f, Drama: %4.2f,\" % (pc_terror, pc_suspense, pc_drama))"
   ]
  },
  {
   "cell_type": "code",
   "execution_count": 42,
   "id": "aa112334-a01d-4095-92a9-17d77f2b11c7",
   "metadata": {
    "tags": []
   },
   "outputs": [
    {
     "name": "stdout",
     "output_type": "stream",
     "text": [
      "Terror: 25.00, Suspense: 62.50, Drama: 75.00,\n"
     ]
    }
   ],
   "source": [
    "pc_terror2 = terror.mean() * 100\n",
    "pc_suspense2 = suspense.mean() * 100\n",
    "pc_drama2 = drama.mean() * 100\n",
    "\n",
    "print(\"Terror: %4.2f, Suspense: %4.2f, Drama: %4.2f,\" % (pc_terror2, pc_suspense2, pc_drama2))"
   ]
  },
  {
   "cell_type": "markdown",
   "id": "87dc87e6-3011-477d-8d6e-e1089318b6cf",
   "metadata": {},
   "source": [
    "## **Medidas de posição e dispersão**"
   ]
  },
  {
   "cell_type": "code",
   "execution_count": 45,
   "id": "917db189-9350-4c06-a2a5-782bbdab8f33",
   "metadata": {
    "tags": []
   },
   "outputs": [
    {
     "name": "stderr",
     "output_type": "stream",
     "text": [
      "/home/jherfson/anaconda3/lib/python3.11/site-packages/seaborn/_oldcore.py:1119: FutureWarning: use_inf_as_na option is deprecated and will be removed in a future version. Convert inf values to NaN before operating instead.\n",
      "  with pd.option_context('mode.use_inf_as_na', True):\n"
     ]
    },
    {
     "data": {
      "text/plain": [
       "<seaborn.axisgrid.FacetGrid at 0x79ed03a57490>"
      ]
     },
     "execution_count": 45,
     "metadata": {},
     "output_type": "execute_result"
    },
    {
     "data": {
      "text/plain": [
       "<Figure size 640x480 with 0 Axes>"
      ]
     },
     "metadata": {},
     "output_type": "display_data"
    },
    {
     "data": {
      "image/png": "[encoded data removed]",
      "text/plain": [
       "<Figure size 500x500 with 1 Axes>"
      ]
     },
     "metadata": {},
     "output_type": "display_data"
    }
   ],
   "source": [
    "shape1, scale1 = 1, 4\n",
    "ex_list1 = np.random.gamma(shape1, scale1, 100)\n",
    "\n",
    "plt.figure()\n",
    "sns.displot(\n",
    "    x = ex_list1,\n",
    "    fill = True,\n",
    "    kind = 'kde'\n",
    ")"
   ]
  },
  {
   "cell_type": "code",
   "execution_count": 47,
   "id": "a2734069-3b43-428f-9985-bb25518c6d86",
   "metadata": {
    "tags": []
   },
   "outputs": [
    {
     "data": {
      "text/plain": [
       "array([ 6.41,  1.03,  8.17,  6.82,  1.19,  0.14,  2.16,  4.06, 12.06,\n",
       "        4.27,  0.03,  5.11,  0.  ,  2.72,  5.07,  4.66,  9.3 ,  6.84,\n",
       "        2.16,  1.61, 16.28, 16.66,  0.17,  0.21,  6.64, 21.48,  7.41,\n",
       "        5.78,  6.81,  0.48,  2.19,  2.52,  7.  , 13.55,  2.54,  2.8 ,\n",
       "        3.8 ,  0.37,  9.86,  2.05,  3.1 ,  3.13,  9.08,  4.08,  6.04,\n",
       "        0.7 ,  7.22,  1.33,  0.12, 10.73,  7.51,  0.28,  0.75,  5.01,\n",
       "        2.31,  9.29,  2.8 ,  4.52,  0.94,  7.69,  5.31,  0.47,  4.84,\n",
       "        5.78,  7.37, 13.43,  0.56,  0.29,  3.53,  1.53,  5.45,  5.12,\n",
       "        2.38,  0.85,  0.15,  0.99,  9.25,  4.76,  3.52,  0.58,  8.  ,\n",
       "        7.14,  1.44,  1.38,  1.08,  1.68,  0.47, 12.93, 15.98,  1.38,\n",
       "        1.34,  0.49,  4.05,  3.63,  4.49,  4.61,  0.42,  1.09,  2.6 ,\n",
       "        2.84])"
      ]
     },
     "execution_count": 47,
     "metadata": {},
     "output_type": "execute_result"
    }
   ],
   "source": [
    "ex_list1.round(2)"
   ]
  },
  {
   "cell_type": "code",
   "execution_count": 49,
   "id": "e7220cf9-3c7e-4ed4-aaf7-35931c201282",
   "metadata": {
    "tags": []
   },
   "outputs": [
    {
     "name": "stderr",
     "output_type": "stream",
     "text": [
      "/home/jherfson/anaconda3/lib/python3.11/site-packages/seaborn/_oldcore.py:1119: FutureWarning: use_inf_as_na option is deprecated and will be removed in a future version. Convert inf values to NaN before operating instead.\n",
      "  with pd.option_context('mode.use_inf_as_na', True):\n"
     ]
    },
    {
     "data": {
      "text/plain": [
       "<seaborn.axisgrid.FacetGrid at 0x79ed03984610>"
      ]
     },
     "execution_count": 49,
     "metadata": {},
     "output_type": "execute_result"
    },
    {
     "data": {
      "text/plain": [
       "<Figure size 640x480 with 0 Axes>"
      ]
     },
     "metadata": {},
     "output_type": "display_data"
    },
    {
     "data": {
      "image/png": "[encoded data removed]",
      "text/plain": [
       "<Figure size 500x500 with 1 Axes>"
      ]
     },
     "metadata": {},
     "output_type": "display_data"
    }
   ],
   "source": [
    "shape2, scale2 = 20, 0.5\n",
    "ex_list2 = np.random.gamma(shape2, scale2, 100)\n",
    "\n",
    "plt.figure()\n",
    "sns.displot(\n",
    "    x = ex_list2,\n",
    "    fill = True,\n",
    "    kind = 'kde'\n",
    ")"
   ]
  },
  {
   "cell_type": "code",
   "execution_count": 51,
   "id": "5f9f7d22-1498-461f-8069-948b32ac5c87",
   "metadata": {
    "tags": []
   },
   "outputs": [
    {
     "data": {
      "text/plain": [
       "array([10.26, 11.7 , 11.72,  7.78,  8.85,  9.75, 10.76,  8.94, 13.2 ,\n",
       "        9.7 ,  8.19,  8.44, 10.9 ,  8.58,  6.18, 14.5 , 14.83, 10.45,\n",
       "       12.39, 12.73,  8.16,  6.43,  9.05,  7.94, 11.65,  9.69, 11.17,\n",
       "        8.84,  7.91,  9.26, 10.21,  8.49,  8.04, 10.46,  8.45,  8.27,\n",
       "        7.69,  9.17, 12.31,  9.85,  7.37, 11.32,  9.37, 10.53,  9.99,\n",
       "       11.2 ,  8.03, 10.14,  8.83,  8.73, 10.97, 11.57,  9.1 , 11.17,\n",
       "       10.76, 10.7 ,  7.46, 11.33,  8.32,  9.95,  8.88,  8.9 ,  9.58,\n",
       "        9.11, 12.52, 13.76, 12.07, 11.98, 13.93,  8.82, 11.1 , 10.85,\n",
       "       14.33,  7.54,  9.11, 10.1 , 10.64,  9.27, 12.27,  7.45,  9.1 ,\n",
       "        8.95, 12.57,  6.19,  9.99, 11.43, 11.11, 13.65, 11.84,  9.27,\n",
       "        9.17,  8.39, 12.68,  8.88, 14.21,  9.87,  9.38, 10.8 , 11.35,\n",
       "        9.04])"
      ]
     },
     "execution_count": 51,
     "metadata": {},
     "output_type": "execute_result"
    }
   ],
   "source": [
    "ex_list2.round(2)"
   ]
  },
  {
   "cell_type": "markdown",
   "id": "d3e5bfdd-b665-4b13-9a18-2fd22e68a232",
   "metadata": {},
   "source": [
    "## **Média**"
   ]
  },
  {
   "cell_type": "code",
   "execution_count": 54,
   "id": "3101d1dc-8485-45c5-9347-bd853ae74daa",
   "metadata": {
    "tags": []
   },
   "outputs": [
    {
     "name": "stdout",
     "output_type": "stream",
     "text": [
      "4.52 10.1\n"
     ]
    }
   ],
   "source": [
    "print(ex_list1.mean().round(2), ex_list2.mean().round(2))"
   ]
  },
  {
   "cell_type": "markdown",
   "id": "64dd744e-dfa2-4b7b-94a3-bf674ce0a170",
   "metadata": {},
   "source": [
    "## **Mediana**"
   ]
  },
  {
   "cell_type": "code",
   "execution_count": 57,
   "id": "9f743723-036f-4479-bebb-78d3412b292f",
   "metadata": {
    "tags": []
   },
   "outputs": [
    {
     "name": "stdout",
     "output_type": "stream",
     "text": [
      "3.52 9.86\n"
     ]
    }
   ],
   "source": [
    "print(np.median(ex_list1).round(2), np.median(ex_list2).round(2))"
   ]
  },
  {
   "cell_type": "markdown",
   "id": "48fb1b66-b61c-421a-a47e-69bc2fa011a0",
   "metadata": {},
   "source": [
    "## **As datas de uma série temporal podem ser consideradas uma variável quantitativa?**\n",
    "\n",
    "Embora a média não seja uma operação que faça muito sentido, você pode estabelecer diferenças entre datas, ***o que resulta em durações***.\n",
    "\n",
    "## Variáveis Qualitativas\n",
    "\n",
    "### **Qualitativas ou Categóricas**\n",
    "\n",
    "* Como o próprio nome indica, **são usadas efetivamente para categorizar elementos**.\n",
    "* São *geralmente dados* de **textos pré-definidos**\n",
    "* Podem ter alguma ordem ou hierarqueia.\n",
    "\n",
    "### **Exemplos**\n",
    "\n",
    "* Alguns *dados comuns* que são usados em Data Science para caracterizar *pessoas*:\n",
    "    * **Sexo/gênero**.\n",
    "    * **Ocupação/Profissão**.\n",
    "    * **Cor da pele**.\n",
    "    * **Escolaridade**.\n",
    "    * **Avalições ou opiniões**.\n",
    "    \n",
    "#### **Check**\n",
    "\n",
    "Se eu somar, subtrair ou calcular a média dos valores, o resultados faz sentido?\n",
    "Quando a resposta for **\"não\" para todos os casos, então a variável é categóricas**.\n",
    "\n",
    "#### **Para ter mente**\n",
    "Em geral, as linguagens de programação oferecem ferramentas para detectar os tipos de variáveis automaticamente, mas vale a pena **verificá-las minuciosamente**, principalmente para detectar os casos mostrados abaixo."
   ]
  },
  {
   "cell_type": "code",
   "execution_count": null,
   "id": "35ebec3b-5433-468b-b2dc-713b089a7f2c",
   "metadata": {},
   "outputs": [],
   "source": []
  },
  {
   "cell_type": "code",
   "execution_count": null,
   "id": "71cfcba9-8005-466a-bd17-144ac99edd73",
   "metadata": {},
   "outputs": [],
   "source": []
  },
  {
   "cell_type": "code",
   "execution_count": null,
   "id": "e144d646-827d-4aa0-8095-285755021524",
   "metadata": {},
   "outputs": [],
   "source": []
  },
  {
   "cell_type": "markdown",
   "id": "8d0c2211-2230-4b0f-a6d4-0121e898fa0b",
   "metadata": {},
   "source": [
    "# **Análise Univariada**\n",
    "\n",
    "## **Análise estatística**\n",
    "\n",
    "### **Tipos de análise estatística**\n",
    "\n",
    "No mundo da estatística, existem três tipos de análises principais de acordo com o número de variáveis que analisam em conjunto. Podemos destacar as análises: ***Univariada, Bivariada e Multivariada***. Neste seção, no focaremos exclusivamente na análise univariada.\n",
    "\n",
    "#### **Análise Univariada**\n",
    "Consiste na análise de cada uma das variáveis estudadas separadamente, ou seja, a análise se baseia exclusivamente em uma única variável.\n",
    "\n",
    "É a análise mais básica e, portanto, a primeira a ser feita.\n",
    "\n",
    "As técnicas mais frequentes da análise univariadas são as *distribuição de frequências* para uma tabela univariada e a *análise das medidas da tendênci central* da variável.\n",
    "\n",
    "*Por exemplo, quando dizemos que uma pessoa pesa 95kg, independentemente de qualquer outra característica, estaremos trabalhando com uma **análise univariada***.\n",
    "\n",
    "*Igualmente, estaremos falando de uma **estatística univariada** quando dissermos, por exemplo, que 65% da população temo cartão e crédito e 35% não tem.*\n",
    "\n",
    "Esse tipo de análise tem sido muito criticado, já que a realidade se apresenta de forma interconectada e relacionada. Por exemplo, existe uma relação entre o peso e a altura das pessoas, entre o interesse do(a) aluno(a) e o rendimento escolar, etc.\n",
    "\n",
    "Então, como a realidade é complexa, precisamenos de métodos para avaliá-la. Assim, surge a necessidade de métodos bivariados ou multivariados.\n",
    "\n",
    "### **Gráficos**\n",
    "\n",
    "Se pensarmos nos gráficos que podemos utilizar para relizar uma análise univariada, podemos destacar os seguintes tipos:\n",
    "\n",
    "**Line Plots** (gráficos de linhas)\n",
    "**Histogramas**\n",
    "**Bar charts** (gráficos de barras)\n",
    "**Box Plots**\n",
    "\n",
    "### **Distribuição dde frequências**\n",
    "\n",
    "Ao utilizar as tabelas de distruição de frequências, ***podemos representar os dados de uma forma mais fácil para analisá-los***.\n",
    "\n",
    "| Classe | Frequência Absoluta | Frequência relativa % | Frequência absoluta acumulada | Frequência relativa acumulativa % |\n",
    "|--------|---------------------|-----------------------|-------------------------------|-----------------------------------|\n",
    "|0       |5                    |25                     |5                              |25                                 |\n",
    "|1       |8                    |40                     |13                             |65                                 |\n",
    "|2       |5                    |25                     |18                             |90                                 |\n",
    "|3       |2                    |10                     |20                             |100                                |\n",
    "|Total   |20                   |100\n",
    "\n",
    "Além disso, é possível elaborar ***tabelas de distruição de frequências para dados não agrupados ou agrupados***, com essa última sendo utilizada quanto temos muitos dados.\n",
    "\n",
    "| Classe | Ponto médio | Frequência Absoluta | Frequência relativa % | Frequência absoluta acumulada | Frequência relativa acumulativa % |\n",
    "|--------|-------------|---------------------|-----------------------|-------------------------------|-----------------------------------|\n",
    "|[131;141[       |   136          |2                    |7                     |2                              |7                                 |\n",
    "|[141;151[       |146             |6                    |20                     |8                             |27                                 |\n",
    "|[151;161[       |156             |7                    |23                     |15                             |50                                 |\n",
    "|161;171       |166             |9                    |30                     |24                             |80                                |\n",
    "|171;181       |176             |6                    |20                     |30                             |100                                |\n",
    "|Total   |             |30                   |100"
   ]
  },
  {
   "cell_type": "markdown",
   "id": "ccab4482-318f-4453-a8a9-778df6f5cfd7",
   "metadata": {},
   "source": [
    "## **Exemplo**"
   ]
  },
  {
   "cell_type": "code",
   "execution_count": 16,
   "id": "3d6b2b12-f18e-4dae-a3fe-25883a9d21aa",
   "metadata": {
    "tags": []
   },
   "outputs": [],
   "source": [
    "import pandas as pd\n",
    "import numpy as np\n",
    "import matplotlib.pyplot as plt\n",
    "import seaborn as sns\n",
    "from matplotlib.ticker import FormatStrFormatter\n",
    "from matplotlib.ticker import PercentFormatter\n",
    "\n",
    "from seaborn import violinplot\n",
    "from seaborn import boxplot\n",
    "from seaborn import displot"
   ]
  },
  {
   "cell_type": "code",
   "execution_count": 18,
   "id": "a53d2233-4f61-4715-81de-e82952ecbd9c",
   "metadata": {
    "tags": []
   },
   "outputs": [
    {
     "data": {
      "text/html": [
       "<div>\n",
       "<style scoped>\n",
       "    .dataframe tbody tr th:only-of-type {\n",
       "        vertical-align: middle;\n",
       "    }\n",
       "\n",
       "    .dataframe tbody tr th {\n",
       "        vertical-align: top;\n",
       "    }\n",
       "\n",
       "    .dataframe thead th {\n",
       "        text-align: right;\n",
       "    }\n",
       "</style>\n",
       "<table border=\"1\" class=\"dataframe\">\n",
       "  <thead>\n",
       "    <tr style=\"text-align: right;\">\n",
       "      <th></th>\n",
       "      <th>Pregnancies</th>\n",
       "      <th>Glucose</th>\n",
       "      <th>BloodPressure</th>\n",
       "      <th>SkinThickness</th>\n",
       "      <th>Insulin</th>\n",
       "      <th>BMI</th>\n",
       "      <th>DiabetesPedigreeFunction</th>\n",
       "      <th>Age</th>\n",
       "      <th>Outcome</th>\n",
       "    </tr>\n",
       "  </thead>\n",
       "  <tbody>\n",
       "    <tr>\n",
       "      <th>0</th>\n",
       "      <td>6</td>\n",
       "      <td>148</td>\n",
       "      <td>72</td>\n",
       "      <td>35</td>\n",
       "      <td>0</td>\n",
       "      <td>33.6</td>\n",
       "      <td>0.627</td>\n",
       "      <td>50</td>\n",
       "      <td>1</td>\n",
       "    </tr>\n",
       "    <tr>\n",
       "      <th>1</th>\n",
       "      <td>1</td>\n",
       "      <td>85</td>\n",
       "      <td>66</td>\n",
       "      <td>29</td>\n",
       "      <td>0</td>\n",
       "      <td>26.6</td>\n",
       "      <td>0.351</td>\n",
       "      <td>31</td>\n",
       "      <td>0</td>\n",
       "    </tr>\n",
       "    <tr>\n",
       "      <th>2</th>\n",
       "      <td>8</td>\n",
       "      <td>183</td>\n",
       "      <td>64</td>\n",
       "      <td>0</td>\n",
       "      <td>0</td>\n",
       "      <td>23.3</td>\n",
       "      <td>0.672</td>\n",
       "      <td>32</td>\n",
       "      <td>1</td>\n",
       "    </tr>\n",
       "    <tr>\n",
       "      <th>3</th>\n",
       "      <td>1</td>\n",
       "      <td>89</td>\n",
       "      <td>66</td>\n",
       "      <td>23</td>\n",
       "      <td>94</td>\n",
       "      <td>28.1</td>\n",
       "      <td>0.167</td>\n",
       "      <td>21</td>\n",
       "      <td>0</td>\n",
       "    </tr>\n",
       "    <tr>\n",
       "      <th>4</th>\n",
       "      <td>0</td>\n",
       "      <td>137</td>\n",
       "      <td>40</td>\n",
       "      <td>35</td>\n",
       "      <td>168</td>\n",
       "      <td>43.1</td>\n",
       "      <td>2.288</td>\n",
       "      <td>33</td>\n",
       "      <td>1</td>\n",
       "    </tr>\n",
       "  </tbody>\n",
       "</table>\n",
       "</div>"
      ],
      "text/plain": [
       "   Pregnancies  Glucose  BloodPressure  SkinThickness  Insulin   BMI  \\\n",
       "0            6      148             72             35        0  33.6   \n",
       "1            1       85             66             29        0  26.6   \n",
       "2            8      183             64              0        0  23.3   \n",
       "3            1       89             66             23       94  28.1   \n",
       "4            0      137             40             35      168  43.1   \n",
       "\n",
       "   DiabetesPedigreeFunction  Age  Outcome  \n",
       "0                     0.627   50        1  \n",
       "1                     0.351   31        0  \n",
       "2                     0.672   32        1  \n",
       "3                     0.167   21        0  \n",
       "4                     2.288   33        1  "
      ]
     },
     "execution_count": 18,
     "metadata": {},
     "output_type": "execute_result"
    }
   ],
   "source": [
    "df = pd.read_csv('https://raw.githubusercontent.com/jherfson/curso-coderhouse/main/aula9/diabetes.csv')\n",
    "df.head()"
   ]
  },
  {
   "cell_type": "code",
   "execution_count": 20,
   "id": "42a4fc54-15ac-4d65-9ad1-e6a18fea28fb",
   "metadata": {
    "tags": []
   },
   "outputs": [
    {
     "data": {
      "text/plain": [
       "(768, 9)"
      ]
     },
     "execution_count": 20,
     "metadata": {},
     "output_type": "execute_result"
    }
   ],
   "source": [
    "# Dimensão da base\n",
    "df.shape"
   ]
  },
  {
   "cell_type": "code",
   "execution_count": 22,
   "id": "85b04911-c540-4982-b18e-71d01fb84cdc",
   "metadata": {
    "tags": []
   },
   "outputs": [
    {
     "data": {
      "text/plain": [
       "Pregnancies                   int64\n",
       "Glucose                       int64\n",
       "BloodPressure                 int64\n",
       "SkinThickness                 int64\n",
       "Insulin                       int64\n",
       "BMI                         float64\n",
       "DiabetesPedigreeFunction    float64\n",
       "Age                           int64\n",
       "Outcome                       int64\n",
       "dtype: object"
      ]
     },
     "execution_count": 22,
     "metadata": {},
     "output_type": "execute_result"
    }
   ],
   "source": [
    "# Tipos de dados\n",
    "df.dtypes"
   ]
  },
  {
   "cell_type": "code",
   "execution_count": 24,
   "id": "32483248-4c45-4324-a1e5-75628130f2c8",
   "metadata": {
    "tags": []
   },
   "outputs": [
    {
     "data": {
      "text/plain": [
       "Pregnancies                 768\n",
       "Glucose                     768\n",
       "BloodPressure               768\n",
       "SkinThickness               768\n",
       "Insulin                     768\n",
       "BMI                         768\n",
       "DiabetesPedigreeFunction    768\n",
       "Age                         768\n",
       "Outcome                     768\n",
       "dtype: int64"
      ]
     },
     "execution_count": 24,
     "metadata": {},
     "output_type": "execute_result"
    }
   ],
   "source": [
    "# Total de registros\n",
    "df.count()"
   ]
  },
  {
   "cell_type": "code",
   "execution_count": 26,
   "id": "be4cea4f-b327-417c-8afa-ef89dce9e32b",
   "metadata": {
    "tags": []
   },
   "outputs": [
    {
     "name": "stdout",
     "output_type": "stream",
     "text": [
      "<class 'pandas.core.frame.DataFrame'>\n",
      "RangeIndex: 768 entries, 0 to 767\n",
      "Data columns (total 9 columns):\n",
      " #   Column                    Non-Null Count  Dtype  \n",
      "---  ------                    --------------  -----  \n",
      " 0   Pregnancies               768 non-null    int64  \n",
      " 1   Glucose                   768 non-null    int64  \n",
      " 2   BloodPressure             768 non-null    int64  \n",
      " 3   SkinThickness             768 non-null    int64  \n",
      " 4   Insulin                   768 non-null    int64  \n",
      " 5   BMI                       768 non-null    float64\n",
      " 6   DiabetesPedigreeFunction  768 non-null    float64\n",
      " 7   Age                       768 non-null    int64  \n",
      " 8   Outcome                   768 non-null    int64  \n",
      "dtypes: float64(2), int64(7)\n",
      "memory usage: 54.1 KB\n"
     ]
    }
   ],
   "source": [
    "# Detalhes da base\n",
    "df.info()"
   ]
  },
  {
   "cell_type": "code",
   "execution_count": 28,
   "id": "a033897f-d4fb-4b2b-8dfb-ea5b886b8f41",
   "metadata": {
    "tags": []
   },
   "outputs": [
    {
     "data": {
      "text/html": [
       "<div>\n",
       "<style scoped>\n",
       "    .dataframe tbody tr th:only-of-type {\n",
       "        vertical-align: middle;\n",
       "    }\n",
       "\n",
       "    .dataframe tbody tr th {\n",
       "        vertical-align: top;\n",
       "    }\n",
       "\n",
       "    .dataframe thead th {\n",
       "        text-align: right;\n",
       "    }\n",
       "</style>\n",
       "<table border=\"1\" class=\"dataframe\">\n",
       "  <thead>\n",
       "    <tr style=\"text-align: right;\">\n",
       "      <th></th>\n",
       "      <th>Pregnancies</th>\n",
       "      <th>Glucose</th>\n",
       "      <th>BloodPressure</th>\n",
       "      <th>SkinThickness</th>\n",
       "      <th>Insulin</th>\n",
       "      <th>BMI</th>\n",
       "      <th>DiabetesPedigreeFunction</th>\n",
       "      <th>Age</th>\n",
       "      <th>Outcome</th>\n",
       "    </tr>\n",
       "  </thead>\n",
       "  <tbody>\n",
       "    <tr>\n",
       "      <th>count</th>\n",
       "      <td>768.000000</td>\n",
       "      <td>768.000000</td>\n",
       "      <td>768.000000</td>\n",
       "      <td>768.000000</td>\n",
       "      <td>768.000000</td>\n",
       "      <td>768.000000</td>\n",
       "      <td>768.000000</td>\n",
       "      <td>768.000000</td>\n",
       "      <td>768.000000</td>\n",
       "    </tr>\n",
       "    <tr>\n",
       "      <th>mean</th>\n",
       "      <td>3.845052</td>\n",
       "      <td>120.894531</td>\n",
       "      <td>69.105469</td>\n",
       "      <td>20.536458</td>\n",
       "      <td>79.799479</td>\n",
       "      <td>31.992578</td>\n",
       "      <td>0.471876</td>\n",
       "      <td>33.240885</td>\n",
       "      <td>0.348958</td>\n",
       "    </tr>\n",
       "    <tr>\n",
       "      <th>std</th>\n",
       "      <td>3.369578</td>\n",
       "      <td>31.972618</td>\n",
       "      <td>19.355807</td>\n",
       "      <td>15.952218</td>\n",
       "      <td>115.244002</td>\n",
       "      <td>7.884160</td>\n",
       "      <td>0.331329</td>\n",
       "      <td>11.760232</td>\n",
       "      <td>0.476951</td>\n",
       "    </tr>\n",
       "    <tr>\n",
       "      <th>min</th>\n",
       "      <td>0.000000</td>\n",
       "      <td>0.000000</td>\n",
       "      <td>0.000000</td>\n",
       "      <td>0.000000</td>\n",
       "      <td>0.000000</td>\n",
       "      <td>0.000000</td>\n",
       "      <td>0.078000</td>\n",
       "      <td>21.000000</td>\n",
       "      <td>0.000000</td>\n",
       "    </tr>\n",
       "    <tr>\n",
       "      <th>25%</th>\n",
       "      <td>1.000000</td>\n",
       "      <td>99.000000</td>\n",
       "      <td>62.000000</td>\n",
       "      <td>0.000000</td>\n",
       "      <td>0.000000</td>\n",
       "      <td>27.300000</td>\n",
       "      <td>0.243750</td>\n",
       "      <td>24.000000</td>\n",
       "      <td>0.000000</td>\n",
       "    </tr>\n",
       "    <tr>\n",
       "      <th>50%</th>\n",
       "      <td>3.000000</td>\n",
       "      <td>117.000000</td>\n",
       "      <td>72.000000</td>\n",
       "      <td>23.000000</td>\n",
       "      <td>30.500000</td>\n",
       "      <td>32.000000</td>\n",
       "      <td>0.372500</td>\n",
       "      <td>29.000000</td>\n",
       "      <td>0.000000</td>\n",
       "    </tr>\n",
       "    <tr>\n",
       "      <th>75%</th>\n",
       "      <td>6.000000</td>\n",
       "      <td>140.250000</td>\n",
       "      <td>80.000000</td>\n",
       "      <td>32.000000</td>\n",
       "      <td>127.250000</td>\n",
       "      <td>36.600000</td>\n",
       "      <td>0.626250</td>\n",
       "      <td>41.000000</td>\n",
       "      <td>1.000000</td>\n",
       "    </tr>\n",
       "    <tr>\n",
       "      <th>max</th>\n",
       "      <td>17.000000</td>\n",
       "      <td>199.000000</td>\n",
       "      <td>122.000000</td>\n",
       "      <td>99.000000</td>\n",
       "      <td>846.000000</td>\n",
       "      <td>67.100000</td>\n",
       "      <td>2.420000</td>\n",
       "      <td>81.000000</td>\n",
       "      <td>1.000000</td>\n",
       "    </tr>\n",
       "  </tbody>\n",
       "</table>\n",
       "</div>"
      ],
      "text/plain": [
       "       Pregnancies     Glucose  BloodPressure  SkinThickness     Insulin  \\\n",
       "count   768.000000  768.000000     768.000000     768.000000  768.000000   \n",
       "mean      3.845052  120.894531      69.105469      20.536458   79.799479   \n",
       "std       3.369578   31.972618      19.355807      15.952218  115.244002   \n",
       "min       0.000000    0.000000       0.000000       0.000000    0.000000   \n",
       "25%       1.000000   99.000000      62.000000       0.000000    0.000000   \n",
       "50%       3.000000  117.000000      72.000000      23.000000   30.500000   \n",
       "75%       6.000000  140.250000      80.000000      32.000000  127.250000   \n",
       "max      17.000000  199.000000     122.000000      99.000000  846.000000   \n",
       "\n",
       "              BMI  DiabetesPedigreeFunction         Age     Outcome  \n",
       "count  768.000000                768.000000  768.000000  768.000000  \n",
       "mean    31.992578                  0.471876   33.240885    0.348958  \n",
       "std      7.884160                  0.331329   11.760232    0.476951  \n",
       "min      0.000000                  0.078000   21.000000    0.000000  \n",
       "25%     27.300000                  0.243750   24.000000    0.000000  \n",
       "50%     32.000000                  0.372500   29.000000    0.000000  \n",
       "75%     36.600000                  0.626250   41.000000    1.000000  \n",
       "max     67.100000                  2.420000   81.000000    1.000000  "
      ]
     },
     "execution_count": 28,
     "metadata": {},
     "output_type": "execute_result"
    }
   ],
   "source": [
    "# Medidas estatística \n",
    "df.describe()"
   ]
  },
  {
   "cell_type": "code",
   "execution_count": 30,
   "id": "f385b615-da2a-428e-a2ae-923340f5ac6a",
   "metadata": {
    "tags": []
   },
   "outputs": [
    {
     "data": {
      "text/html": [
       "<div>\n",
       "<style scoped>\n",
       "    .dataframe tbody tr th:only-of-type {\n",
       "        vertical-align: middle;\n",
       "    }\n",
       "\n",
       "    .dataframe tbody tr th {\n",
       "        vertical-align: top;\n",
       "    }\n",
       "\n",
       "    .dataframe thead th {\n",
       "        text-align: right;\n",
       "    }\n",
       "</style>\n",
       "<table border=\"1\" class=\"dataframe\">\n",
       "  <thead>\n",
       "    <tr style=\"text-align: right;\">\n",
       "      <th></th>\n",
       "      <th>count</th>\n",
       "      <th>mean</th>\n",
       "      <th>std</th>\n",
       "      <th>min</th>\n",
       "      <th>25%</th>\n",
       "      <th>50%</th>\n",
       "      <th>75%</th>\n",
       "      <th>max</th>\n",
       "    </tr>\n",
       "  </thead>\n",
       "  <tbody>\n",
       "    <tr>\n",
       "      <th>Pregnancies</th>\n",
       "      <td>768.0</td>\n",
       "      <td>3.845052</td>\n",
       "      <td>3.369578</td>\n",
       "      <td>0.000</td>\n",
       "      <td>1.00000</td>\n",
       "      <td>3.0000</td>\n",
       "      <td>6.00000</td>\n",
       "      <td>17.00</td>\n",
       "    </tr>\n",
       "    <tr>\n",
       "      <th>Glucose</th>\n",
       "      <td>768.0</td>\n",
       "      <td>120.894531</td>\n",
       "      <td>31.972618</td>\n",
       "      <td>0.000</td>\n",
       "      <td>99.00000</td>\n",
       "      <td>117.0000</td>\n",
       "      <td>140.25000</td>\n",
       "      <td>199.00</td>\n",
       "    </tr>\n",
       "    <tr>\n",
       "      <th>BloodPressure</th>\n",
       "      <td>768.0</td>\n",
       "      <td>69.105469</td>\n",
       "      <td>19.355807</td>\n",
       "      <td>0.000</td>\n",
       "      <td>62.00000</td>\n",
       "      <td>72.0000</td>\n",
       "      <td>80.00000</td>\n",
       "      <td>122.00</td>\n",
       "    </tr>\n",
       "    <tr>\n",
       "      <th>SkinThickness</th>\n",
       "      <td>768.0</td>\n",
       "      <td>20.536458</td>\n",
       "      <td>15.952218</td>\n",
       "      <td>0.000</td>\n",
       "      <td>0.00000</td>\n",
       "      <td>23.0000</td>\n",
       "      <td>32.00000</td>\n",
       "      <td>99.00</td>\n",
       "    </tr>\n",
       "    <tr>\n",
       "      <th>Insulin</th>\n",
       "      <td>768.0</td>\n",
       "      <td>79.799479</td>\n",
       "      <td>115.244002</td>\n",
       "      <td>0.000</td>\n",
       "      <td>0.00000</td>\n",
       "      <td>30.5000</td>\n",
       "      <td>127.25000</td>\n",
       "      <td>846.00</td>\n",
       "    </tr>\n",
       "    <tr>\n",
       "      <th>BMI</th>\n",
       "      <td>768.0</td>\n",
       "      <td>31.992578</td>\n",
       "      <td>7.884160</td>\n",
       "      <td>0.000</td>\n",
       "      <td>27.30000</td>\n",
       "      <td>32.0000</td>\n",
       "      <td>36.60000</td>\n",
       "      <td>67.10</td>\n",
       "    </tr>\n",
       "    <tr>\n",
       "      <th>DiabetesPedigreeFunction</th>\n",
       "      <td>768.0</td>\n",
       "      <td>0.471876</td>\n",
       "      <td>0.331329</td>\n",
       "      <td>0.078</td>\n",
       "      <td>0.24375</td>\n",
       "      <td>0.3725</td>\n",
       "      <td>0.62625</td>\n",
       "      <td>2.42</td>\n",
       "    </tr>\n",
       "    <tr>\n",
       "      <th>Age</th>\n",
       "      <td>768.0</td>\n",
       "      <td>33.240885</td>\n",
       "      <td>11.760232</td>\n",
       "      <td>21.000</td>\n",
       "      <td>24.00000</td>\n",
       "      <td>29.0000</td>\n",
       "      <td>41.00000</td>\n",
       "      <td>81.00</td>\n",
       "    </tr>\n",
       "    <tr>\n",
       "      <th>Outcome</th>\n",
       "      <td>768.0</td>\n",
       "      <td>0.348958</td>\n",
       "      <td>0.476951</td>\n",
       "      <td>0.000</td>\n",
       "      <td>0.00000</td>\n",
       "      <td>0.0000</td>\n",
       "      <td>1.00000</td>\n",
       "      <td>1.00</td>\n",
       "    </tr>\n",
       "  </tbody>\n",
       "</table>\n",
       "</div>"
      ],
      "text/plain": [
       "                          count        mean         std     min       25%  \\\n",
       "Pregnancies               768.0    3.845052    3.369578   0.000   1.00000   \n",
       "Glucose                   768.0  120.894531   31.972618   0.000  99.00000   \n",
       "BloodPressure             768.0   69.105469   19.355807   0.000  62.00000   \n",
       "SkinThickness             768.0   20.536458   15.952218   0.000   0.00000   \n",
       "Insulin                   768.0   79.799479  115.244002   0.000   0.00000   \n",
       "BMI                       768.0   31.992578    7.884160   0.000  27.30000   \n",
       "DiabetesPedigreeFunction  768.0    0.471876    0.331329   0.078   0.24375   \n",
       "Age                       768.0   33.240885   11.760232  21.000  24.00000   \n",
       "Outcome                   768.0    0.348958    0.476951   0.000   0.00000   \n",
       "\n",
       "                               50%        75%     max  \n",
       "Pregnancies                 3.0000    6.00000   17.00  \n",
       "Glucose                   117.0000  140.25000  199.00  \n",
       "BloodPressure              72.0000   80.00000  122.00  \n",
       "SkinThickness              23.0000   32.00000   99.00  \n",
       "Insulin                    30.5000  127.25000  846.00  \n",
       "BMI                        32.0000   36.60000   67.10  \n",
       "DiabetesPedigreeFunction    0.3725    0.62625    2.42  \n",
       "Age                        29.0000   41.00000   81.00  \n",
       "Outcome                     0.0000    1.00000    1.00  "
      ]
     },
     "execution_count": 30,
     "metadata": {},
     "output_type": "execute_result"
    }
   ],
   "source": [
    "# Transpose\n",
    "df.describe().T"
   ]
  },
  {
   "cell_type": "code",
   "execution_count": 32,
   "id": "4bb99953-c0c6-4b75-91bf-b2c6a953d60a",
   "metadata": {
    "tags": []
   },
   "outputs": [
    {
     "data": {
      "text/plain": [
       "count    768.000000\n",
       "mean       3.845052\n",
       "std        3.369578\n",
       "min        0.000000\n",
       "25%        1.000000\n",
       "50%        3.000000\n",
       "75%        6.000000\n",
       "max       17.000000\n",
       "Name: Pregnancies, dtype: float64"
      ]
     },
     "execution_count": 32,
     "metadata": {},
     "output_type": "execute_result"
    }
   ],
   "source": [
    "df.Pregnancies.describe()"
   ]
  },
  {
   "cell_type": "code",
   "execution_count": 36,
   "id": "75fd39f9-68ae-4b66-8196-3f0a56556232",
   "metadata": {
    "tags": []
   },
   "outputs": [
    {
     "data": {
      "text/html": [
       "<div>\n",
       "<style scoped>\n",
       "    .dataframe tbody tr th:only-of-type {\n",
       "        vertical-align: middle;\n",
       "    }\n",
       "\n",
       "    .dataframe tbody tr th {\n",
       "        vertical-align: top;\n",
       "    }\n",
       "\n",
       "    .dataframe thead th {\n",
       "        text-align: right;\n",
       "    }\n",
       "</style>\n",
       "<table border=\"1\" class=\"dataframe\">\n",
       "  <thead>\n",
       "    <tr style=\"text-align: right;\">\n",
       "      <th></th>\n",
       "      <th>Outcome</th>\n",
       "      <th>count</th>\n",
       "    </tr>\n",
       "  </thead>\n",
       "  <tbody>\n",
       "    <tr>\n",
       "      <th>0</th>\n",
       "      <td>0</td>\n",
       "      <td>500</td>\n",
       "    </tr>\n",
       "    <tr>\n",
       "      <th>1</th>\n",
       "      <td>1</td>\n",
       "      <td>268</td>\n",
       "    </tr>\n",
       "  </tbody>\n",
       "</table>\n",
       "</div>"
      ],
      "text/plain": [
       "   Outcome  count\n",
       "0        0    500\n",
       "1        1    268"
      ]
     },
     "execution_count": 36,
     "metadata": {},
     "output_type": "execute_result"
    }
   ],
   "source": [
    "dount_out = df['Outcome'].value_counts().reset_index()\n",
    "dount_out"
   ]
  },
  {
   "cell_type": "code",
   "execution_count": 100,
   "id": "e462598e-895d-446f-88c1-5188ea856a7f",
   "metadata": {
    "tags": []
   },
   "outputs": [
    {
     "data": {
      "image/png": "[encoded data removed]",
      "text/plain": [
       "<Figure size 960x480 with 1 Axes>"
      ]
     },
     "metadata": {},
     "output_type": "display_data"
    }
   ],
   "source": [
    "labels = ['Não', 'Sim']\n",
    "explode = (0.01, 0.01)\n",
    "\n",
    "fig, ax = plt.subplots(dpi=120, figsize=(8,4))\n",
    "plt.pie(\n",
    "    dount_out.sum(axis=1),\n",
    "    colors=[\"#00b3b3\", \"#3366ff\"],\n",
    "    labels=dount_out.sum(axis=1),\n",
    "    autopct='%1.1f%%',\n",
    "    pctdistance=0.8,\n",
    "    explode=explode\n",
    ")\n",
    "\n",
    "centre_circle = plt.Circle(\n",
    "    (0.0, 0.0),\n",
    "    0.5,\n",
    "    fc='white'\n",
    ")\n",
    "fig = plt.gcf()\n",
    "fig.gca().add_artist(centre_circle)\n",
    "\n",
    "plt.title('Presença de diabetes')\n",
    "plt.legend(\n",
    "    labels, \n",
    "    loc='center',\n",
    "    frameon=False\n",
    ")\n",
    "plt.show()"
   ]
  },
  {
   "cell_type": "code",
   "execution_count": null,
   "id": "ad329b1e-fd5c-473b-899d-36279eb7a822",
   "metadata": {},
   "outputs": [],
   "source": []
  }
 ],
 "metadata": {
  "kernelspec": {
   "display_name": "Python 3 (ipykernel)",
   "language": "python",
   "name": "python3"
  },
  "language_info": {
   "codemirror_mode": {
    "name": "ipython",
    "version": 3
   },
   "file_extension": ".py",
   "mimetype": "text/x-python",
   "name": "python",
   "nbconvert_exporter": "python",
   "pygments_lexer": "ipython3",
   "version": "3.11.7"
  }
 },
 "nbformat": 4,
 "nbformat_minor": 5
}
