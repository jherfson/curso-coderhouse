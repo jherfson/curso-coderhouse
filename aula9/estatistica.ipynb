{
 "cells": [
  {
   "cell_type": "markdown",
   "id": "6c161d33-c519-48b2-bb9a-a2f39d878f64",
   "metadata": {},
   "source": [
    "# **EStatística Descritiva**\n",
    "\n",
    "## **Como conhecer os dados**\n",
    "\n",
    "**Descrição + Análise**\n",
    "\n",
    "A **estatística descritiva** é um ramo da estatística que nos ajuda a **entender** melhor os dados.\n",
    "\n",
    "## **Tipos de variáveis e tipos de dados**\n",
    "\n",
    "* Os tipos de variáveis são **análogos em seu conceito** aos tipos de dados.\n",
    "* Existem, porque há operações que podemos fazer com alguns deles mas, com outros não.\n",
    "* A divisão mais prática para Data Science:\n",
    "    * Quantitativas\n",
    "    * Qualitativas\n",
    "    \n",
    "### **Variáveis Quantitativas**\n",
    "\n",
    "* São variáveis para as quais **somar**, **substrair** ou **calcular a média** faz sentido.\n",
    "* Em geral, **são numéricas** e pertencem ao conjunto dos números reais ou a um de seus subconjuntos.\n",
    "\n",
    "```peso      = [80.5, 92.0, 55.8, 75.1, 58.3]```\n",
    "\n",
    "```idade     = [18, 55, 54, 19, 31, 42, 27]```\n",
    "\n",
    "```proporcao = [0.1, 0.23, 0.15, 0.58, 0.90]```\n",
    "\n",
    "**Exemplos**\n",
    "* As **alturas das pessoas podem** ser medidas em centímetros, e as **idades** podem ser medidas **em números inteiros**.\n",
    "* Mas, serve para propósitos práticos, nossa idade aumenta dia à dia, segundo a segundo.\n",
    "* ter 20,4 anos de idade pode ser muito importante para um estudo médico, mas não para as idades dos consumidores de um produto."
   ]
  },
  {
   "cell_type": "code",
   "execution_count": null,
   "id": "5129b139-3bf6-4fa8-bf0b-e01e150dbd98",
   "metadata": {},
   "outputs": [],
   "source": []
  },
  {
   "cell_type": "code",
   "execution_count": null,
   "id": "80be99e6-e198-4152-a427-008c361293c7",
   "metadata": {},
   "outputs": [],
   "source": []
  }
 ],
 "metadata": {
  "kernelspec": {
   "display_name": "Python 3 (ipykernel)",
   "language": "python",
   "name": "python3"
  },
  "language_info": {
   "codemirror_mode": {
    "name": "ipython",
    "version": 3
   },
   "file_extension": ".py",
   "mimetype": "text/x-python",
   "name": "python",
   "nbconvert_exporter": "python",
   "pygments_lexer": "ipython3",
   "version": "3.11.7"
  }
 },
 "nbformat": 4,
 "nbformat_minor": 5
}
