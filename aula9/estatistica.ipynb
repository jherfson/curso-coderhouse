{
 "cells": [
  {
   "cell_type": "markdown",
   "id": "6c161d33-c519-48b2-bb9a-a2f39d878f64",
   "metadata": {},
   "source": [
    "# **EStatística Descritiva**\n",
    "\n",
    "## **Como conhecer os dados**\n",
    "\n",
    "**Descrição + Análise**\n",
    "\n",
    "A **estatística descritiva** é um ramo da estatística que nos ajuda a **entender** melhor os dados.\n",
    "\n",
    "## **Tipos de variáveis e tipos de dados**\n",
    "\n",
    "* Os tipos de variáveis são **análogos em seu conceito** aos tipos de dados.\n",
    "* Existem, porque há operações que podemos fazer com alguns deles mas, com outros não.\n",
    "* A divisão mais prática para Data Science:\n",
    "    * Quantitativas\n",
    "    * Qualitativas\n",
    "    \n",
    "### **Variáveis Quantitativas**\n",
    "\n",
    "* São variáveis para as quais **somar**, **substrair** ou **calcular a média** faz sentido.\n",
    "* Em geral, **são numéricas** e pertencem ao conjunto dos números reais ou a um de seus subconjuntos.\n",
    "\n",
    "```peso      = [80.5, 92.0, 55.8, 75.1, 58.3]```\n",
    "\n",
    "```idade     = [18, 55, 54, 19, 31, 42, 27]```\n",
    "\n",
    "```proporcao = [0.1, 0.23, 0.15, 0.58, 0.90]```\n",
    "\n",
    "**Exemplos**\n",
    "* As **alturas das pessoas podem** ser medidas em centímetros, e as **idades** podem ser medidas **em números inteiros**.\n",
    "* Mas, serve para propósitos práticos, nossa idade aumenta dia à dia, segundo a segundo.\n",
    "* ter 20,4 anos de idade pode ser muito importante para um estudo médico, mas não para as idades dos consumidores de um produto.\n",
    "\n",
    "**Check**\n",
    "Se eu somar, subtrair ou calcular a média dos valores, o resultado faz sentido?\n",
    "Se fizer sentido para qualquer um desses casos, estamos lidando com uma variável numérica.\n",
    "Devemos ter em mente que sempre **depende do problema** que estamos enfrentando.\n",
    "\n",
    "**Exemplos**\n",
    "* Você gosta dos gêneros de filmes listados a seguir?\n",
    "    * Terror: Sim | Não\n",
    "    * Suspense: Sim | Não\n",
    "    * Drama: Sim | Não\n",
    "```terror    = [“sim”, “não”, “não”, “não”, “não”, “não”, “não”]```\n",
    "\n",
    "```suspense  = [“sim”, “sim”, “sim”, “não”, “não”, “não”, “sim”]```\n",
    "\n",
    "```drama     = [“sim”, “sim”, “sim”, “não”, “sim”, “não”, “sim”]```\n",
    "\n",
    "ou\n",
    "\n",
    "```Sim = 1```\n",
    "```Não = 0```\n",
    "\n",
    "```terror    = [1, 0, 0, 0, 0, 0, 0]```\n",
    "\n",
    "```suspense  = [1, 1, 1, 0, 0, 0, 1]```\n",
    "\n",
    "```drama     = [1, 1, 1, 0, 1, 0, 1]```\n",
    "\n",
    "**Exemplo**\n",
    "* Vamos descobrir a % de respostas sim?\n",
    "* A média faz sentido nesse tipo de informação?"
   ]
  },
  {
   "cell_type": "code",
   "execution_count": 14,
   "id": "5129b139-3bf6-4fa8-bf0b-e01e150dbd98",
   "metadata": {
    "tags": []
   },
   "outputs": [],
   "source": [
    "import matplotlib as mpl\n",
    "import pandas as pd\n",
    "import numpy as np\n",
    "import matplotlib.pyplot as plt\n",
    "import seaborn as sns"
   ]
  },
  {
   "cell_type": "code",
   "execution_count": 30,
   "id": "80be99e6-e198-4152-a427-008c361293c7",
   "metadata": {
    "tags": []
   },
   "outputs": [
    {
     "name": "stdout",
     "output_type": "stream",
     "text": [
      "\n",
      " [1 0 0 0 0 0 0 1] \n",
      " [1 1 1 0 0 0 1 1] \n",
      " [1 1 1 0 1 0 1 1]\n"
     ]
    }
   ],
   "source": [
    "# Sim = 1\n",
    "# Não = 0\n",
    "\n",
    "terror    = np.array([1, 0, 0, 0, 0, 0, 0, 1])\n",
    "suspense  = np.array([1, 1, 1, 0, 0, 0, 1, 1])\n",
    "drama     = np.array([1, 1, 1, 0, 1, 0, 1, 1])\n",
    "\n",
    "print('\\n', terror, '\\n', suspense, '\\n', drama)"
   ]
  },
  {
   "cell_type": "code",
   "execution_count": 34,
   "id": "5cd9f19f-6ef5-4bf5-8f21-36733da32cd0",
   "metadata": {
    "tags": []
   },
   "outputs": [
    {
     "name": "stdout",
     "output_type": "stream",
     "text": [
      "Soma terror: 2, Soma suspense: 5, Soma drama: 6\n"
     ]
    },
    {
     "data": {
      "text/plain": [
       "8"
      ]
     },
     "execution_count": 34,
     "metadata": {},
     "output_type": "execute_result"
    }
   ],
   "source": [
    "sum_terror = terror.sum()\n",
    "sum_suspense = suspense.sum()\n",
    "sum_drama = drama.sum()\n",
    "n = terror.size\n",
    "\n",
    "print(f'Soma terror: {sum_terror}, Soma suspense: {sum_suspense}, Soma drama: {sum_drama}')\n",
    "n"
   ]
  },
  {
   "cell_type": "code",
   "execution_count": 38,
   "id": "2d91721b-82f1-41de-864f-6a2e0f000b7f",
   "metadata": {
    "tags": []
   },
   "outputs": [
    {
     "name": "stdout",
     "output_type": "stream",
     "text": [
      "Terror: 25.00, Suspense: 62.50, Drama: 75.00,\n"
     ]
    }
   ],
   "source": [
    "pc_terror = (sum_terror/n) * 100\n",
    "pc_suspense = (sum_suspense/n) * 100\n",
    "pc_drama = (sum_drama/n) * 100\n",
    "\n",
    "# https://python-course.eu/python-tutorial/formatted-output.php\n",
    "print(\"Terror: %4.2f, Suspense: %4.2f, Drama: %4.2f,\" % (pc_terror, pc_suspense, pc_drama))"
   ]
  },
  {
   "cell_type": "code",
   "execution_count": 42,
   "id": "aa112334-a01d-4095-92a9-17d77f2b11c7",
   "metadata": {
    "tags": []
   },
   "outputs": [
    {
     "name": "stdout",
     "output_type": "stream",
     "text": [
      "Terror: 25.00, Suspense: 62.50, Drama: 75.00,\n"
     ]
    }
   ],
   "source": [
    "pc_terror2 = terror.mean() * 100\n",
    "pc_suspense2 = suspense.mean() * 100\n",
    "pc_drama2 = drama.mean() * 100\n",
    "\n",
    "print(\"Terror: %4.2f, Suspense: %4.2f, Drama: %4.2f,\" % (pc_terror2, pc_suspense2, pc_drama2))"
   ]
  },
  {
   "cell_type": "markdown",
   "id": "87dc87e6-3011-477d-8d6e-e1089318b6cf",
   "metadata": {},
   "source": [
    "## **Medidas de posição e dispersão**"
   ]
  },
  {
   "cell_type": "code",
   "execution_count": 45,
   "id": "917db189-9350-4c06-a2a5-782bbdab8f33",
   "metadata": {
    "tags": []
   },
   "outputs": [
    {
     "name": "stderr",
     "output_type": "stream",
     "text": [
      "/home/jherfson/anaconda3/lib/python3.11/site-packages/seaborn/_oldcore.py:1119: FutureWarning: use_inf_as_na option is deprecated and will be removed in a future version. Convert inf values to NaN before operating instead.\n",
      "  with pd.option_context('mode.use_inf_as_na', True):\n"
     ]
    },
    {
     "data": {
      "text/plain": [
       "<seaborn.axisgrid.FacetGrid at 0x79ed03a57490>"
      ]
     },
     "execution_count": 45,
     "metadata": {},
     "output_type": "execute_result"
    },
    {
     "data": {
      "text/plain": [
       "<Figure size 640x480 with 0 Axes>"
      ]
     },
     "metadata": {},
     "output_type": "display_data"
    },
    {
     "data": {
      "image/png": "[encoded data removed]",
      "text/plain": [
       "<Figure size 500x500 with 1 Axes>"
      ]
     },
     "metadata": {},
     "output_type": "display_data"
    }
   ],
   "source": [
    "shape1, scale1 = 1, 4\n",
    "ex_list1 = np.random.gamma(shape1, scale1, 100)\n",
    "\n",
    "plt.figure()\n",
    "sns.displot(\n",
    "    x = ex_list1,\n",
    "    fill = True,\n",
    "    kind = 'kde'\n",
    ")"
   ]
  },
  {
   "cell_type": "code",
   "execution_count": 47,
   "id": "a2734069-3b43-428f-9985-bb25518c6d86",
   "metadata": {
    "tags": []
   },
   "outputs": [
    {
     "data": {
      "text/plain": [
       "array([ 6.41,  1.03,  8.17,  6.82,  1.19,  0.14,  2.16,  4.06, 12.06,\n",
       "        4.27,  0.03,  5.11,  0.  ,  2.72,  5.07,  4.66,  9.3 ,  6.84,\n",
       "        2.16,  1.61, 16.28, 16.66,  0.17,  0.21,  6.64, 21.48,  7.41,\n",
       "        5.78,  6.81,  0.48,  2.19,  2.52,  7.  , 13.55,  2.54,  2.8 ,\n",
       "        3.8 ,  0.37,  9.86,  2.05,  3.1 ,  3.13,  9.08,  4.08,  6.04,\n",
       "        0.7 ,  7.22,  1.33,  0.12, 10.73,  7.51,  0.28,  0.75,  5.01,\n",
       "        2.31,  9.29,  2.8 ,  4.52,  0.94,  7.69,  5.31,  0.47,  4.84,\n",
       "        5.78,  7.37, 13.43,  0.56,  0.29,  3.53,  1.53,  5.45,  5.12,\n",
       "        2.38,  0.85,  0.15,  0.99,  9.25,  4.76,  3.52,  0.58,  8.  ,\n",
       "        7.14,  1.44,  1.38,  1.08,  1.68,  0.47, 12.93, 15.98,  1.38,\n",
       "        1.34,  0.49,  4.05,  3.63,  4.49,  4.61,  0.42,  1.09,  2.6 ,\n",
       "        2.84])"
      ]
     },
     "execution_count": 47,
     "metadata": {},
     "output_type": "execute_result"
    }
   ],
   "source": [
    "ex_list1.round(2)"
   ]
  },
  {
   "cell_type": "code",
   "execution_count": 49,
   "id": "e7220cf9-3c7e-4ed4-aaf7-35931c201282",
   "metadata": {
    "tags": []
   },
   "outputs": [
    {
     "name": "stderr",
     "output_type": "stream",
     "text": [
      "/home/jherfson/anaconda3/lib/python3.11/site-packages/seaborn/_oldcore.py:1119: FutureWarning: use_inf_as_na option is deprecated and will be removed in a future version. Convert inf values to NaN before operating instead.\n",
      "  with pd.option_context('mode.use_inf_as_na', True):\n"
     ]
    },
    {
     "data": {
      "text/plain": [
       "<seaborn.axisgrid.FacetGrid at 0x79ed03984610>"
      ]
     },
     "execution_count": 49,
     "metadata": {},
     "output_type": "execute_result"
    },
    {
     "data": {
      "text/plain": [
       "<Figure size 640x480 with 0 Axes>"
      ]
     },
     "metadata": {},
     "output_type": "display_data"
    },
    {
     "data": {
      "image/png": "[encoded data removed]",
      "text/plain": [
       "<Figure size 500x500 with 1 Axes>"
      ]
     },
     "metadata": {},
     "output_type": "display_data"
    }
   ],
   "source": [
    "shape2, scale2 = 20, 0.5\n",
    "ex_list2 = np.random.gamma(shape2, scale2, 100)\n",
    "\n",
    "plt.figure()\n",
    "sns.displot(\n",
    "    x = ex_list2,\n",
    "    fill = True,\n",
    "    kind = 'kde'\n",
    ")"
   ]
  },
  {
   "cell_type": "code",
   "execution_count": 51,
   "id": "5f9f7d22-1498-461f-8069-948b32ac5c87",
   "metadata": {
    "tags": []
   },
   "outputs": [
    {
     "data": {
      "text/plain": [
       "array([10.26, 11.7 , 11.72,  7.78,  8.85,  9.75, 10.76,  8.94, 13.2 ,\n",
       "        9.7 ,  8.19,  8.44, 10.9 ,  8.58,  6.18, 14.5 , 14.83, 10.45,\n",
       "       12.39, 12.73,  8.16,  6.43,  9.05,  7.94, 11.65,  9.69, 11.17,\n",
       "        8.84,  7.91,  9.26, 10.21,  8.49,  8.04, 10.46,  8.45,  8.27,\n",
       "        7.69,  9.17, 12.31,  9.85,  7.37, 11.32,  9.37, 10.53,  9.99,\n",
       "       11.2 ,  8.03, 10.14,  8.83,  8.73, 10.97, 11.57,  9.1 , 11.17,\n",
       "       10.76, 10.7 ,  7.46, 11.33,  8.32,  9.95,  8.88,  8.9 ,  9.58,\n",
       "        9.11, 12.52, 13.76, 12.07, 11.98, 13.93,  8.82, 11.1 , 10.85,\n",
       "       14.33,  7.54,  9.11, 10.1 , 10.64,  9.27, 12.27,  7.45,  9.1 ,\n",
       "        8.95, 12.57,  6.19,  9.99, 11.43, 11.11, 13.65, 11.84,  9.27,\n",
       "        9.17,  8.39, 12.68,  8.88, 14.21,  9.87,  9.38, 10.8 , 11.35,\n",
       "        9.04])"
      ]
     },
     "execution_count": 51,
     "metadata": {},
     "output_type": "execute_result"
    }
   ],
   "source": [
    "ex_list2.round(2)"
   ]
  },
  {
   "cell_type": "markdown",
   "id": "d3e5bfdd-b665-4b13-9a18-2fd22e68a232",
   "metadata": {},
   "source": [
    "## **Média**"
   ]
  },
  {
   "cell_type": "code",
   "execution_count": 54,
   "id": "3101d1dc-8485-45c5-9347-bd853ae74daa",
   "metadata": {
    "tags": []
   },
   "outputs": [
    {
     "name": "stdout",
     "output_type": "stream",
     "text": [
      "4.52 10.1\n"
     ]
    }
   ],
   "source": [
    "print(ex_list1.mean().round(2), ex_list2.mean().round(2))"
   ]
  },
  {
   "cell_type": "markdown",
   "id": "64dd744e-dfa2-4b7b-94a3-bf674ce0a170",
   "metadata": {},
   "source": [
    "## **Mediana**"
   ]
  },
  {
   "cell_type": "code",
   "execution_count": 57,
   "id": "9f743723-036f-4479-bebb-78d3412b292f",
   "metadata": {
    "tags": []
   },
   "outputs": [
    {
     "name": "stdout",
     "output_type": "stream",
     "text": [
      "3.52 9.86\n"
     ]
    }
   ],
   "source": [
    "print(np.median(ex_list1).round(2), np.median(ex_list2).round(2))"
   ]
  },
  {
   "cell_type": "markdown",
   "id": "48fb1b66-b61c-421a-a47e-69bc2fa011a0",
   "metadata": {},
   "source": [
    "## **As datas de uma série temporal podem ser consideradas uma variável quantitativa?**\n",
    "\n",
    "Embora a média não seja uma operação que faça muito sentido, você pode estabelecer diferenças entre datas, ***o que resulta em durações***.\n",
    "\n",
    "## Variáveis Qualitativas\n",
    "\n",
    "### **Qualitativas ou Categóricas**\n",
    "\n",
    "* Como o próprio nome indica, **são usadas efetivamente para categorizar elementos**.\n",
    "* São *geralmente dados* de **textos pré-definidos**\n",
    "* Podem ter alguma ordem ou hierarqueia.\n",
    "\n",
    "### **Exemplos**\n",
    "\n",
    "* Alguns *dados comuns* que são usados em Data Science para caracterizar *pessoas*:\n",
    "    * **Sexo/gênero**.\n",
    "    * **Ocupação/Profissão**.\n",
    "    * **Cor da pele**.\n",
    "    * **Escolaridade**.\n",
    "    * **Avalições ou opiniões**.\n",
    "    \n",
    "#### **Check**\n",
    "\n",
    "Se eu somar, subtrair ou calcular a média dos valores, o resultados faz sentido?\n",
    "Quando a resposta for **\"não\" para todos os casos, então a variável é categóricas**.\n",
    "\n",
    "#### **Para ter mente**\n",
    "Em geral, as linguagens de programação oferecem ferramentas para detectar os tipos de variáveis automaticamente, mas vale a pena **verificá-las minuciosamente**, principalmente para detectar os casos mostrados abaixo."
   ]
  },
  {
   "cell_type": "code",
   "execution_count": null,
   "id": "35ebec3b-5433-468b-b2dc-713b089a7f2c",
   "metadata": {},
   "outputs": [],
   "source": []
  },
  {
   "cell_type": "code",
   "execution_count": null,
   "id": "71cfcba9-8005-466a-bd17-144ac99edd73",
   "metadata": {},
   "outputs": [],
   "source": []
  },
  {
   "cell_type": "code",
   "execution_count": null,
   "id": "e144d646-827d-4aa0-8095-285755021524",
   "metadata": {},
   "outputs": [],
   "source": []
  },
  {
   "cell_type": "markdown",
   "id": "8d0c2211-2230-4b0f-a6d4-0121e898fa0b",
   "metadata": {},
   "source": [
    "# **Análise Univariada**\n",
    "\n",
    "## **Análise estatística**\n",
    "\n",
    "### **Tipos de análise estatística**\n",
    "\n",
    "No mundo da estatística, existem três tipos de análises principais de acordo com o número de variáveis que analisam em conjunto. Podemos destacar as análises: ***Univariada, Bivariada e Multivariada***. Neste seção, no focaremos exclusivamente na análise univariada.\n",
    "\n",
    "#### **Análise Univariada**\n",
    "Consiste na análise de cada uma das variáveis estudadas separadamente, ou seja, a análise se baseia exclusivamente em uma única variável.\n",
    "\n",
    "É a análise mais básica e, portanto, a primeira a ser feita.\n",
    "\n",
    "As técnicas mais frequentes da análise univariadas são as *distribuição de frequências* para uma tabela univariada e a *análise das medidas da tendênci central* da variável.\n",
    "\n",
    "*Por exemplo, quando dizemos que uma pessoa pesa 95kg, independentemente de qualquer outra característica, estaremos trabalhando com uma **análise univariada***.\n",
    "\n",
    "*Igualmente, estaremos falando de uma **estatística univariada** quando dissermos, por exemplo, que 65% da população temo cartão e crédito e 35% não tem.*\n",
    "\n",
    "Esse tipo de análise tem sido muito criticado, já que a realidade se apresenta de forma interconectada e relacionada. Por exemplo, existe uma relação entre o peso e a altura das pessoas, entre o interesse do(a) aluno(a) e o rendimento escolar, etc.\n",
    "\n",
    "Então, como a realidade é complexa, precisamenos de métodos para avaliá-la. Assim, surge a necessidade de métodos bivariados ou multivariados.\n",
    "\n",
    "### **Gráficos**\n",
    "\n",
    "Se pensarmos nos gráficos que podemos utilizar para relizar uma análise univariada, podemos destacar os seguintes tipos:\n",
    "\n",
    "**Line Plots** (gráficos de linhas)\n",
    "**Histogramas**\n",
    "**Bar charts** (gráficos de barras)\n",
    "**Box Plots**\n",
    "\n",
    "### **Distribuição dde frequências**\n",
    "\n",
    "Ao utilizar as tabelas de distruição de frequências, ***podemos representar os dados de uma forma mais fácil para analisá-los***.\n",
    "\n",
    "| Classe | Frequência Absoluta | Frequência relativa % | Frequência absoluta acumulada | Frequência relativa acumulativa % |\n",
    "|--------|---------------------|-----------------------|-------------------------------|-----------------------------------|\n",
    "|0       |5                    |25                     |5                              |25                                 |\n",
    "|1       |8                    |40                     |13                             |65                                 |\n",
    "|2       |5                    |25                     |18                             |90                                 |\n",
    "|3       |2                    |10                     |20                             |100                                |\n",
    "|Total   |20                   |100\n",
    "\n",
    "Além disso, é possível elaborar ***tabelas de distruição de frequências para dados não agrupados ou agrupados***, com essa última sendo utilizada quanto temos muitos dados.\n",
    "\n",
    "| Classe | Ponto médio | Frequência Absoluta | Frequência relativa % | Frequência absoluta acumulada | Frequência relativa acumulativa % |\n",
    "|--------|-------------|---------------------|-----------------------|-------------------------------|-----------------------------------|\n",
    "|[131;141[       |   136          |2                    |7                     |2                              |7                                 |\n",
    "|[141;151[       |146             |6                    |20                     |8                             |27                                 |\n",
    "|[151;161[       |156             |7                    |23                     |15                             |50                                 |\n",
    "|161;171       |166             |9                    |30                     |24                             |80                                |\n",
    "|171;181       |176             |6                    |20                     |30                             |100                                |\n",
    "|Total   |             |30                   |100"
   ]
  },
  {
   "cell_type": "code",
   "execution_count": null,
   "id": "798f3dee-a478-44d7-98f3-ccd7404e3978",
   "metadata": {},
   "outputs": [],
   "source": []
  },
  {
   "cell_type": "code",
   "execution_count": null,
   "id": "3d6b2b12-f18e-4dae-a3fe-25883a9d21aa",
   "metadata": {},
   "outputs": [],
   "source": []
  }
 ],
 "metadata": {
  "kernelspec": {
   "display_name": "Python 3 (ipykernel)",
   "language": "python",
   "name": "python3"
  },
  "language_info": {
   "codemirror_mode": {
    "name": "ipython",
    "version": 3
   },
   "file_extension": ".py",
   "mimetype": "text/x-python",
   "name": "python",
   "nbconvert_exporter": "python",
   "pygments_lexer": "ipython3",
   "version": "3.11.7"
  }
 },
 "nbformat": 4,
 "nbformat_minor": 5
}
